{
 "cells": [
  {
   "cell_type": "code",
   "execution_count": null,
   "id": "39e1a802-66e0-41da-b5b1-33e9e69a80ce",
   "metadata": {},
   "outputs": [],
   "source": [
    "import pandas as pd\n",
    "from config import METHYLATION_CSV_FILE"
   ]
  }
 ],
 "metadata": {
  "kernelspec": {
   "display_name": "Python 3 (ipykernel)",
   "language": "python",
   "name": "python3"
  },
  "language_info": {
   "codemirror_mode": {
    "name": "ipython",
    "version": 3
   },
   "file_extension": ".py",
   "mimetype": "text/x-python",
   "name": "python",
   "nbconvert_exporter": "python",
   "pygments_lexer": "ipython3",
   "version": "3.9.12"
  }
 },
 "nbformat": 4,
 "nbformat_minor": 5
}
