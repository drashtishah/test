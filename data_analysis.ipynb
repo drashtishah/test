{
 "cells": [
  {
   "cell_type": "code",
   "execution_count": null,
   "id": "39e1a802-66e0-41da-b5b1-33e9e69a80ce",
   "metadata": {},
   "outputs": [],
   "source": [
    "import pandas as pd\n",
    "import polars as pl\n",
    "import numpy as np\n",
    "import seaborn as sns\n",
    "import matplotlib.pyplot as plt\n",
    "from scipy.stats import fisher_exact\n",
    "\n",
    "from config import DATA_FOLDER, RESULTS_FOLDER, METHYLATION_CSV_FILE, NUMBER_OF_CPG_SITES\n",
    "from utils import get_patterns"
   ]
  },
  {
   "cell_type": "code",
   "execution_count": 2,
   "id": "37a8a422-b72a-41f7-9881-28b9424e3592",
   "metadata": {},
   "outputs": [],
   "source": [
    "%matplotlib inline"
   ]
  },
  {
   "cell_type": "code",
   "execution_count": 3,
   "id": "9db1178b-95c4-4763-a941-a64da75bc276",
   "metadata": {},
   "outputs": [
    {
     "data": {
      "text/plain": [
       "['`000', '`001', '`010', '`011', '`100', '`101', '`110', '`111']"
      ]
     },
     "execution_count": 3,
     "metadata": {},
     "output_type": "execute_result"
    }
   ],
   "source": [
    "patterns = get_patterns(NUMBER_OF_CPG_SITES)\n",
    "patterns"
   ]
  },
  {
   "cell_type": "markdown",
   "id": "91039105-1b57-4447-8f25-9bff71160166",
   "metadata": {},
   "source": [
    "# Get data"
   ]
  },
  {
   "cell_type": "code",
   "execution_count": 4,
   "id": "705db6ea-5a62-477f-be52-96147f8a92f6",
   "metadata": {},
   "outputs": [],
   "source": [
    "# This is a big file\n",
    "# Reading the file can be faster if it is saved as a pickle/parquet file\n",
    "df = pd.read_csv(f'{DATA_FOLDER}/{METHYLATION_CSV_FILE}')"
   ]
  },
  {
   "cell_type": "markdown",
   "id": "f85f4308-5409-4008-9a7d-93da1a357412",
   "metadata": {},
   "source": [
    "# Look at the data"
   ]
  },
  {
   "cell_type": "code",
   "execution_count": 5,
   "id": "3fa51189-15ca-483f-9806-62fb25cf1fda",
   "metadata": {},
   "outputs": [
    {
     "data": {
      "text/html": [
       "<div>\n",
       "<style scoped>\n",
       "    .dataframe tbody tr th:only-of-type {\n",
       "        vertical-align: middle;\n",
       "    }\n",
       "\n",
       "    .dataframe tbody tr th {\n",
       "        vertical-align: top;\n",
       "    }\n",
       "\n",
       "    .dataframe thead th {\n",
       "        text-align: right;\n",
       "    }\n",
       "</style>\n",
       "<table border=\"1\" class=\"dataframe\">\n",
       "  <thead>\n",
       "    <tr style=\"text-align: right;\">\n",
       "      <th></th>\n",
       "      <th>strand</th>\n",
       "      <th>CpG_Coordinates</th>\n",
       "      <th>`000</th>\n",
       "      <th>`001</th>\n",
       "      <th>`010</th>\n",
       "      <th>`011</th>\n",
       "      <th>`100</th>\n",
       "      <th>`101</th>\n",
       "      <th>`110</th>\n",
       "      <th>`111</th>\n",
       "      <th>Sample_ID</th>\n",
       "      <th>Replicate</th>\n",
       "      <th>Tissue</th>\n",
       "    </tr>\n",
       "  </thead>\n",
       "  <tbody>\n",
       "    <tr>\n",
       "      <th>0</th>\n",
       "      <td>r</td>\n",
       "      <td>10035:10044:10046</td>\n",
       "      <td>1077</td>\n",
       "      <td>9</td>\n",
       "      <td>0</td>\n",
       "      <td>0</td>\n",
       "      <td>0</td>\n",
       "      <td>0</td>\n",
       "      <td>0</td>\n",
       "      <td>4</td>\n",
       "      <td>1</td>\n",
       "      <td>Rep2</td>\n",
       "      <td>cfDNA</td>\n",
       "    </tr>\n",
       "    <tr>\n",
       "      <th>1</th>\n",
       "      <td>r</td>\n",
       "      <td>10035:10044:10053</td>\n",
       "      <td>1086</td>\n",
       "      <td>0</td>\n",
       "      <td>0</td>\n",
       "      <td>0</td>\n",
       "      <td>0</td>\n",
       "      <td>0</td>\n",
       "      <td>0</td>\n",
       "      <td>4</td>\n",
       "      <td>1</td>\n",
       "      <td>Rep2</td>\n",
       "      <td>cfDNA</td>\n",
       "    </tr>\n",
       "    <tr>\n",
       "      <th>2</th>\n",
       "      <td>r</td>\n",
       "      <td>10035:10044:10058</td>\n",
       "      <td>1069</td>\n",
       "      <td>17</td>\n",
       "      <td>0</td>\n",
       "      <td>0</td>\n",
       "      <td>0</td>\n",
       "      <td>0</td>\n",
       "      <td>0</td>\n",
       "      <td>4</td>\n",
       "      <td>1</td>\n",
       "      <td>Rep2</td>\n",
       "      <td>cfDNA</td>\n",
       "    </tr>\n",
       "    <tr>\n",
       "      <th>3</th>\n",
       "      <td>r</td>\n",
       "      <td>10035:10044:10071</td>\n",
       "      <td>1072</td>\n",
       "      <td>14</td>\n",
       "      <td>0</td>\n",
       "      <td>0</td>\n",
       "      <td>0</td>\n",
       "      <td>0</td>\n",
       "      <td>0</td>\n",
       "      <td>4</td>\n",
       "      <td>1</td>\n",
       "      <td>Rep2</td>\n",
       "      <td>cfDNA</td>\n",
       "    </tr>\n",
       "    <tr>\n",
       "      <th>4</th>\n",
       "      <td>r</td>\n",
       "      <td>10035:10044:10075</td>\n",
       "      <td>1086</td>\n",
       "      <td>0</td>\n",
       "      <td>0</td>\n",
       "      <td>0</td>\n",
       "      <td>0</td>\n",
       "      <td>0</td>\n",
       "      <td>0</td>\n",
       "      <td>4</td>\n",
       "      <td>1</td>\n",
       "      <td>Rep2</td>\n",
       "      <td>cfDNA</td>\n",
       "    </tr>\n",
       "  </tbody>\n",
       "</table>\n",
       "</div>"
      ],
      "text/plain": [
       "  strand    CpG_Coordinates  `000  `001  `010  `011  `100  `101  `110  `111  \\\n",
       "0      r  10035:10044:10046  1077     9     0     0     0     0     0     4   \n",
       "1      r  10035:10044:10053  1086     0     0     0     0     0     0     4   \n",
       "2      r  10035:10044:10058  1069    17     0     0     0     0     0     4   \n",
       "3      r  10035:10044:10071  1072    14     0     0     0     0     0     4   \n",
       "4      r  10035:10044:10075  1086     0     0     0     0     0     0     4   \n",
       "\n",
       "   Sample_ID Replicate Tissue  \n",
       "0          1      Rep2  cfDNA  \n",
       "1          1      Rep2  cfDNA  \n",
       "2          1      Rep2  cfDNA  \n",
       "3          1      Rep2  cfDNA  \n",
       "4          1      Rep2  cfDNA  "
      ]
     },
     "execution_count": 5,
     "metadata": {},
     "output_type": "execute_result"
    }
   ],
   "source": [
    "df.head()"
   ]
  },
  {
   "cell_type": "code",
   "execution_count": 6,
   "id": "cf531690-5b26-471c-96f9-fa320cea494c",
   "metadata": {},
   "outputs": [
    {
     "name": "stdout",
     "output_type": "stream",
     "text": [
      "<class 'pandas.core.frame.DataFrame'>\n",
      "RangeIndex: 15392183 entries, 0 to 15392182\n",
      "Data columns (total 13 columns):\n",
      " #   Column           Dtype \n",
      "---  ------           ----- \n",
      " 0   strand           object\n",
      " 1   CpG_Coordinates  object\n",
      " 2   `000             int64 \n",
      " 3   `001             int64 \n",
      " 4   `010             int64 \n",
      " 5   `011             int64 \n",
      " 6   `100             int64 \n",
      " 7   `101             int64 \n",
      " 8   `110             int64 \n",
      " 9   `111             int64 \n",
      " 10  Sample_ID        int64 \n",
      " 11  Replicate        object\n",
      " 12  Tissue           object\n",
      "dtypes: int64(9), object(4)\n",
      "memory usage: 1.5+ GB\n"
     ]
    }
   ],
   "source": [
    "df.info()"
   ]
  },
  {
   "cell_type": "code",
   "execution_count": 7,
   "id": "d70c6488-39ca-42ba-8060-97378a9dcdd8",
   "metadata": {},
   "outputs": [
    {
     "name": "stdout",
     "output_type": "stream",
     "text": [
      "['r' 'f']\n",
      "['Rep2' 'Rep1']\n",
      "['cfDNA' 'Islet']\n"
     ]
    }
   ],
   "source": [
    "# There are 2 technical replicates and 2 tissue types\n",
    "for x in ['strand', 'Replicate', 'Tissue']:\n",
    "    print(df[x].unique())"
   ]
  },
  {
   "cell_type": "code",
   "execution_count": 8,
   "id": "0f4d4f57-81b5-4c5c-83a9-9f77800bbe3f",
   "metadata": {},
   "outputs": [
    {
     "data": {
      "text/plain": [
       "strand  Tissue  Replicate\n",
       "f       Islet   Rep1         32\n",
       "        cfDNA   Rep1         47\n",
       "                Rep2         48\n",
       "r       Islet   Rep1         32\n",
       "        cfDNA   Rep1         47\n",
       "                Rep2         48\n",
       "Name: Sample_ID, dtype: int64"
      ]
     },
     "execution_count": 8,
     "metadata": {},
     "output_type": "execute_result"
    }
   ],
   "source": [
    "# We don't have 2 technical replicates for Islet tissue type\n",
    "# We have more samples of circulating free DNA\n",
    "df.groupby(['strand', 'Tissue', 'Replicate'])['Sample_ID'].nunique()"
   ]
  },
  {
   "cell_type": "code",
   "execution_count": 9,
   "id": "92785b03-8776-487f-affc-2b644d2ec41e",
   "metadata": {},
   "outputs": [
    {
     "name": "stdout",
     "output_type": "stream",
     "text": [
      "1\n",
      "80\n",
      "80\n"
     ]
    }
   ],
   "source": [
    "# There are 80 samples\n",
    "print(df['Sample_ID'].min())\n",
    "print(df['Sample_ID'].max())\n",
    "print(df['Sample_ID'].nunique())"
   ]
  },
  {
   "cell_type": "markdown",
   "id": "deb4195d-509a-43bb-b43b-a0a3af053577",
   "metadata": {},
   "source": [
    "# Coverage analysis"
   ]
  },
  {
   "cell_type": "code",
   "execution_count": 10,
   "id": "472ff9ee-5d8a-4402-ac07-39060a5dbb78",
   "metadata": {},
   "outputs": [],
   "source": [
    "# Calculate the median and coefficient of variation (CV) for single CpG coverage in each tissue\n",
    "\n",
    "# Coverage analysis can help us evaluate data quality\n",
    "\n",
    "# The CpG_Coordinates are not split below, so this is not truly \"single CpG coverage\"\n",
    "# I have treated the phased triple as a single epigenetic locus\n",
    "\n",
    "# A common approach is to sum across all methylation patterns\n",
    "# to get total coverage at that phased triple locus\n",
    "\n",
    "df['Total_Coverage'] = df[patterns].sum(axis=1)\n",
    "df_locus = df.groupby(['Tissue', 'CpG_Coordinates'])['Total_Coverage'].sum().reset_index()\n",
    "df_strand = df.groupby(['Tissue', 'strand', 'CpG_Coordinates'])['Total_Coverage'].sum().reset_index()\n",
    "df_rep = df.groupby(['Tissue', 'Replicate', 'CpG_Coordinates'])['Total_Coverage'].sum().reset_index()"
   ]
  },
  {
   "cell_type": "code",
   "execution_count": 11,
   "id": "3c131256-bb1b-41ec-9a79-0f8768f1530b",
   "metadata": {},
   "outputs": [
    {
     "data": {
      "text/html": [
       "<div>\n",
       "<style scoped>\n",
       "    .dataframe tbody tr th:only-of-type {\n",
       "        vertical-align: middle;\n",
       "    }\n",
       "\n",
       "    .dataframe tbody tr th {\n",
       "        vertical-align: top;\n",
       "    }\n",
       "\n",
       "    .dataframe thead th {\n",
       "        text-align: right;\n",
       "    }\n",
       "</style>\n",
       "<table border=\"1\" class=\"dataframe\">\n",
       "  <thead>\n",
       "    <tr style=\"text-align: right;\">\n",
       "      <th></th>\n",
       "      <th>Tissue</th>\n",
       "      <th>median</th>\n",
       "      <th>mean</th>\n",
       "      <th>std</th>\n",
       "      <th>CV</th>\n",
       "    </tr>\n",
       "  </thead>\n",
       "  <tbody>\n",
       "    <tr>\n",
       "      <th>0</th>\n",
       "      <td>Islet</td>\n",
       "      <td>4762.0</td>\n",
       "      <td>8534.123892</td>\n",
       "      <td>9733.194154</td>\n",
       "      <td>1.140503</td>\n",
       "    </tr>\n",
       "    <tr>\n",
       "      <th>1</th>\n",
       "      <td>cfDNA</td>\n",
       "      <td>90208.5</td>\n",
       "      <td>178228.548366</td>\n",
       "      <td>222046.851894</td>\n",
       "      <td>1.245855</td>\n",
       "    </tr>\n",
       "  </tbody>\n",
       "</table>\n",
       "</div>"
      ],
      "text/plain": [
       "  Tissue   median           mean            std        CV\n",
       "0  Islet   4762.0    8534.123892    9733.194154  1.140503\n",
       "1  cfDNA  90208.5  178228.548366  222046.851894  1.245855"
      ]
     },
     "execution_count": 11,
     "metadata": {},
     "output_type": "execute_result"
    }
   ],
   "source": [
    "# The mean values are higher than median\n",
    "# The distribution is skewed (clearly visible in boxplots below)\n",
    "\n",
    "stats = df_locus.groupby(['Tissue'])['Total_Coverage'].agg(['median', 'mean', 'std']).reset_index()\n",
    "stats['CV'] = stats['std'] / stats['mean']\n",
    "stats"
   ]
  },
  {
   "cell_type": "code",
   "execution_count": 12,
   "id": "6c81aba9-8c69-4207-a76d-d5e965c979ee",
   "metadata": {},
   "outputs": [
    {
     "data": {
      "image/png": "[encoded data removed]",
      "text/plain": [
       "<Figure size 576x432 with 1 Axes>"
      ]
     },
     "metadata": {},
     "output_type": "display_data"
    }
   ],
   "source": [
    "# There seem to be a lot of outliers\n",
    "sns.set(style='whitegrid')\n",
    "plt.figure(figsize=(8,6))\n",
    "sns.boxplot(x='Tissue', y='Total_Coverage', data=df_locus)\n",
    "plt.title(\"Distribution of total coverage by Tissue\")\n",
    "plt.ylabel(\"Coverage\")\n",
    "plt.xlabel(\"Tissue\")\n",
    "plt.tight_layout()\n",
    "plt.savefig(f'{RESULTS_FOLDER}/coverage_stats_tissue.svg')\n",
    "plt.show()"
   ]
  },
  {
   "cell_type": "markdown",
   "id": "1ce08061-7527-46f4-baf5-192cc1c79b63",
   "metadata": {},
   "source": [
    "## Coverage stats by Tissue and Strand"
   ]
  },
  {
   "cell_type": "code",
   "execution_count": 13,
   "id": "9318e408-a724-46e2-b6f0-9f25651eee40",
   "metadata": {},
   "outputs": [
    {
     "data": {
      "text/html": [
       "<div>\n",
       "<style scoped>\n",
       "    .dataframe tbody tr th:only-of-type {\n",
       "        vertical-align: middle;\n",
       "    }\n",
       "\n",
       "    .dataframe tbody tr th {\n",
       "        vertical-align: top;\n",
       "    }\n",
       "\n",
       "    .dataframe thead th {\n",
       "        text-align: right;\n",
       "    }\n",
       "</style>\n",
       "<table border=\"1\" class=\"dataframe\">\n",
       "  <thead>\n",
       "    <tr style=\"text-align: right;\">\n",
       "      <th></th>\n",
       "      <th>Tissue</th>\n",
       "      <th>strand</th>\n",
       "      <th>mean</th>\n",
       "      <th>median</th>\n",
       "      <th>std</th>\n",
       "      <th>CV</th>\n",
       "    </tr>\n",
       "  </thead>\n",
       "  <tbody>\n",
       "    <tr>\n",
       "      <th>0</th>\n",
       "      <td>Islet</td>\n",
       "      <td>f</td>\n",
       "      <td>4911.560906</td>\n",
       "      <td>2920.5</td>\n",
       "      <td>5521.360744</td>\n",
       "      <td>1.124156</td>\n",
       "    </tr>\n",
       "    <tr>\n",
       "      <th>1</th>\n",
       "      <td>Islet</td>\n",
       "      <td>r</td>\n",
       "      <td>3861.656847</td>\n",
       "      <td>1799.0</td>\n",
       "      <td>4674.749670</td>\n",
       "      <td>1.210555</td>\n",
       "    </tr>\n",
       "    <tr>\n",
       "      <th>2</th>\n",
       "      <td>cfDNA</td>\n",
       "      <td>f</td>\n",
       "      <td>101495.106485</td>\n",
       "      <td>54521.0</td>\n",
       "      <td>122704.943440</td>\n",
       "      <td>1.208974</td>\n",
       "    </tr>\n",
       "    <tr>\n",
       "      <th>3</th>\n",
       "      <td>cfDNA</td>\n",
       "      <td>r</td>\n",
       "      <td>81457.929502</td>\n",
       "      <td>30721.5</td>\n",
       "      <td>110953.440426</td>\n",
       "      <td>1.362095</td>\n",
       "    </tr>\n",
       "  </tbody>\n",
       "</table>\n",
       "</div>"
      ],
      "text/plain": [
       "  Tissue strand           mean   median            std        CV\n",
       "0  Islet      f    4911.560906   2920.5    5521.360744  1.124156\n",
       "1  Islet      r    3861.656847   1799.0    4674.749670  1.210555\n",
       "2  cfDNA      f  101495.106485  54521.0  122704.943440  1.208974\n",
       "3  cfDNA      r   81457.929502  30721.5  110953.440426  1.362095"
      ]
     },
     "execution_count": 13,
     "metadata": {},
     "output_type": "execute_result"
    }
   ],
   "source": [
    "# The median values in forward strand are higher compared to reverse strand in both tissue types\n",
    "df_strand_stats = df_strand.groupby(['Tissue','strand'])['Total_Coverage'].agg(['mean','median','std']).reset_index()\n",
    "df_strand_stats['CV'] = df_strand_stats['std'] / df_strand_stats['mean']\n",
    "df_strand_stats "
   ]
  },
  {
   "cell_type": "code",
   "execution_count": 14,
   "id": "a0f480f4-1e52-4f68-b8dd-2fbd904ac006",
   "metadata": {},
   "outputs": [
    {
     "data": {
      "image/png": "[encoded data removed]",
      "text/plain": [
       "<Figure size 720x432 with 1 Axes>"
      ]
     },
     "metadata": {},
     "output_type": "display_data"
    }
   ],
   "source": [
    "plt.figure(figsize=(10,6))\n",
    "sns.boxplot(x='Tissue', y='Total_Coverage',hue='strand',data=df_strand)\n",
    "plt.title(\"Coverage by Tissue and Strand\")\n",
    "plt.xlabel(\"Tissue\")\n",
    "plt.ylabel(\"Total Coverage\")\n",
    "plt.legend(title=\"Strand\")\n",
    "plt.tight_layout()\n",
    "plt.savefig(f'{RESULTS_FOLDER}/coverage_stats_strand.svg')\n",
    "plt.show()"
   ]
  },
  {
   "cell_type": "markdown",
   "id": "3a6ad529-0ca9-4f49-a713-6d4b20045458",
   "metadata": {},
   "source": [
    "## Coverage stats by Tissue and Replicate"
   ]
  },
  {
   "cell_type": "code",
   "execution_count": 15,
   "id": "4f03c447-f61b-4f37-af5a-9f4be1dad370",
   "metadata": {},
   "outputs": [
    {
     "data": {
      "text/html": [
       "<div>\n",
       "<style scoped>\n",
       "    .dataframe tbody tr th:only-of-type {\n",
       "        vertical-align: middle;\n",
       "    }\n",
       "\n",
       "    .dataframe tbody tr th {\n",
       "        vertical-align: top;\n",
       "    }\n",
       "\n",
       "    .dataframe thead th {\n",
       "        text-align: right;\n",
       "    }\n",
       "</style>\n",
       "<table border=\"1\" class=\"dataframe\">\n",
       "  <thead>\n",
       "    <tr style=\"text-align: right;\">\n",
       "      <th></th>\n",
       "      <th>Tissue</th>\n",
       "      <th>Replicate</th>\n",
       "      <th>mean</th>\n",
       "      <th>median</th>\n",
       "      <th>std</th>\n",
       "      <th>CV</th>\n",
       "    </tr>\n",
       "  </thead>\n",
       "  <tbody>\n",
       "    <tr>\n",
       "      <th>0</th>\n",
       "      <td>Islet</td>\n",
       "      <td>Rep1</td>\n",
       "      <td>8534.123892</td>\n",
       "      <td>4762.0</td>\n",
       "      <td>9733.194154</td>\n",
       "      <td>1.140503</td>\n",
       "    </tr>\n",
       "    <tr>\n",
       "      <th>1</th>\n",
       "      <td>cfDNA</td>\n",
       "      <td>Rep1</td>\n",
       "      <td>79456.485655</td>\n",
       "      <td>40297.5</td>\n",
       "      <td>98926.656313</td>\n",
       "      <td>1.245042</td>\n",
       "    </tr>\n",
       "    <tr>\n",
       "      <th>2</th>\n",
       "      <td>cfDNA</td>\n",
       "      <td>Rep2</td>\n",
       "      <td>98808.192434</td>\n",
       "      <td>49968.5</td>\n",
       "      <td>123128.895556</td>\n",
       "      <td>1.246141</td>\n",
       "    </tr>\n",
       "  </tbody>\n",
       "</table>\n",
       "</div>"
      ],
      "text/plain": [
       "  Tissue Replicate          mean   median            std        CV\n",
       "0  Islet      Rep1   8534.123892   4762.0    9733.194154  1.140503\n",
       "1  cfDNA      Rep1  79456.485655  40297.5   98926.656313  1.245042\n",
       "2  cfDNA      Rep2  98808.192434  49968.5  123128.895556  1.246141"
      ]
     },
     "execution_count": 15,
     "metadata": {},
     "output_type": "execute_result"
    }
   ],
   "source": [
    "# In cfDNA, replicate 2 has higher median compared to replicate 1\n",
    "# But the variation in cfDNA coverage within each replicate is similar\n",
    "# It might be worth validating the wet lab protocols used in both replicates\n",
    "\n",
    "df_rep_stats = df_rep.groupby(['Tissue','Replicate'])['Total_Coverage'].agg(['mean','median','std']).reset_index()\n",
    "df_rep_stats['CV'] = df_rep_stats['std'] / df_rep_stats['mean']\n",
    "df_rep_stats"
   ]
  },
  {
   "cell_type": "code",
   "execution_count": 16,
   "id": "5f9521a1-b2f6-4af1-b684-03af2478d946",
   "metadata": {},
   "outputs": [
    {
     "data": {
      "image/png": "[encoded data removed]",
      "text/plain": [
       "<Figure size 720x432 with 1 Axes>"
      ]
     },
     "metadata": {},
     "output_type": "display_data"
    }
   ],
   "source": [
    "plt.figure(figsize=(10,6))\n",
    "sns.boxplot(x='Tissue', y='Total_Coverage', hue='Replicate', data=df_rep)\n",
    "plt.title(\"Coverage by Tissue and Replicate\")\n",
    "plt.xlabel(\"Tissue\")\n",
    "plt.ylabel(\"Total Coverage\")\n",
    "plt.legend(title=\"Replicate\")\n",
    "plt.tight_layout()\n",
    "plt.savefig(f'{RESULTS_FOLDER}/coverage_stats_replicate.svg')\n",
    "plt.show()"
   ]
  },
  {
   "cell_type": "markdown",
   "id": "952f6496-325f-4221-bfcc-9685f086aca7",
   "metadata": {},
   "source": [
    "# Biomarker identification"
   ]
  },
  {
   "cell_type": "code",
   "execution_count": 17,
   "id": "44750981-cf0d-4a5a-8237-b46b2fcf0c93",
   "metadata": {},
   "outputs": [],
   "source": [
    "# Identify PMPs with high specificity for tissue differentiation, \n",
    "# minimizing false positives for Tissue #1 while allowing some false negatives\n",
    "\n",
    "# I am assuming tissue 1 is Islet and we want to minimize false positives in this\n",
    "# False positive -> mistaking tissue 1 to be tissue 2 when it is not tissue 2\n",
    "# And that the goal is to find patterns enriched in tissue 2 (cfDNA)\n",
    "\n",
    "# Null hypothesis -> tissue 2 is not more likely to have this PMP than tissue 1\n",
    "# Alternative -> tissue 2 is more likely to have this PMP than tissue 1\n",
    "\n",
    "# We can use Fisher's exact test to determine whether 2 categorical variables are significantly associated\n",
    "\n",
    "# This operation takes time, so we save the data to avoid running this again\n",
    "# To speed things up, we need to use polars instead of pandas\n",
    "df_polars = pl.from_pandas(df)\n",
    "\n",
    "df_melt_polars = df_polars.unpivot(\n",
    "    index=[\"strand\", \"CpG_Coordinates\", \"Sample_ID\", \"Replicate\", \"Tissue\"], \n",
    "    on=patterns,\n",
    "    variable_name = \"pattern\",\n",
    "    value_name = \"coverage\"\n",
    ")\n",
    "\n",
    "# I am not ignoring strand information here\n",
    "# But would it make sense to ignore it?\n",
    "df_melt_polars = df_melt_polars.with_columns(\n",
    "    (pl.col(\"strand\") + \"_\" + pl.col(\"CpG_Coordinates\") + \"_\" + pl.col(\"pattern\")).alias(\"PMP_ID\")\n",
    ")\n",
    "\n",
    "# Save the result as a pickle file\n",
    "df_melt_polars.write_parquet(f'{RESULTS_FOLDER}/methylation_data.parquet')"
   ]
  },
  {
   "cell_type": "code",
   "execution_count": 18,
   "id": "d0e4e888-2d0d-4767-8aa3-bb296fd9d012",
   "metadata": {},
   "outputs": [
    {
     "data": {
      "text/html": [
       "<div><style>\n",
       ".dataframe > thead > tr,\n",
       ".dataframe > tbody > tr {\n",
       "  text-align: right;\n",
       "  white-space: pre-wrap;\n",
       "}\n",
       "</style>\n",
       "<small>shape: (5, 8)</small><table border=\"1\" class=\"dataframe\"><thead><tr><th>strand</th><th>CpG_Coordinates</th><th>Sample_ID</th><th>Replicate</th><th>Tissue</th><th>pattern</th><th>coverage</th><th>PMP_ID</th></tr><tr><td>str</td><td>str</td><td>i64</td><td>str</td><td>str</td><td>str</td><td>i64</td><td>str</td></tr></thead><tbody><tr><td>&quot;r&quot;</td><td>&quot;10035:10044:10046&quot;</td><td>1</td><td>&quot;Rep2&quot;</td><td>&quot;cfDNA&quot;</td><td>&quot;`000&quot;</td><td>1077</td><td>&quot;r_10035:10044:10046_`000&quot;</td></tr><tr><td>&quot;r&quot;</td><td>&quot;10035:10044:10053&quot;</td><td>1</td><td>&quot;Rep2&quot;</td><td>&quot;cfDNA&quot;</td><td>&quot;`000&quot;</td><td>1086</td><td>&quot;r_10035:10044:10053_`000&quot;</td></tr><tr><td>&quot;r&quot;</td><td>&quot;10035:10044:10058&quot;</td><td>1</td><td>&quot;Rep2&quot;</td><td>&quot;cfDNA&quot;</td><td>&quot;`000&quot;</td><td>1069</td><td>&quot;r_10035:10044:10058_`000&quot;</td></tr><tr><td>&quot;r&quot;</td><td>&quot;10035:10044:10071&quot;</td><td>1</td><td>&quot;Rep2&quot;</td><td>&quot;cfDNA&quot;</td><td>&quot;`000&quot;</td><td>1072</td><td>&quot;r_10035:10044:10071_`000&quot;</td></tr><tr><td>&quot;r&quot;</td><td>&quot;10035:10044:10075&quot;</td><td>1</td><td>&quot;Rep2&quot;</td><td>&quot;cfDNA&quot;</td><td>&quot;`000&quot;</td><td>1086</td><td>&quot;r_10035:10044:10075_`000&quot;</td></tr></tbody></table></div>"
      ],
      "text/plain": [
       "shape: (5, 8)\n",
       "┌────────┬─────────────────┬───────────┬───────────┬────────┬─────────┬──────────┬─────────────────┐\n",
       "│ strand ┆ CpG_Coordinates ┆ Sample_ID ┆ Replicate ┆ Tissue ┆ pattern ┆ coverage ┆ PMP_ID          │\n",
       "│ ---    ┆ ---             ┆ ---       ┆ ---       ┆ ---    ┆ ---     ┆ ---      ┆ ---             │\n",
       "│ str    ┆ str             ┆ i64       ┆ str       ┆ str    ┆ str     ┆ i64      ┆ str             │\n",
       "╞════════╪═════════════════╪═══════════╪═══════════╪════════╪═════════╪══════════╪═════════════════╡\n",
       "│ r      ┆ 10035:10044:100 ┆ 1         ┆ Rep2      ┆ cfDNA  ┆ `000    ┆ 1077     ┆ r_10035:10044:1 │\n",
       "│        ┆ 46              ┆           ┆           ┆        ┆         ┆          ┆ 0046_`000       │\n",
       "│ r      ┆ 10035:10044:100 ┆ 1         ┆ Rep2      ┆ cfDNA  ┆ `000    ┆ 1086     ┆ r_10035:10044:1 │\n",
       "│        ┆ 53              ┆           ┆           ┆        ┆         ┆          ┆ 0053_`000       │\n",
       "│ r      ┆ 10035:10044:100 ┆ 1         ┆ Rep2      ┆ cfDNA  ┆ `000    ┆ 1069     ┆ r_10035:10044:1 │\n",
       "│        ┆ 58              ┆           ┆           ┆        ┆         ┆          ┆ 0058_`000       │\n",
       "│ r      ┆ 10035:10044:100 ┆ 1         ┆ Rep2      ┆ cfDNA  ┆ `000    ┆ 1072     ┆ r_10035:10044:1 │\n",
       "│        ┆ 71              ┆           ┆           ┆        ┆         ┆          ┆ 0071_`000       │\n",
       "│ r      ┆ 10035:10044:100 ┆ 1         ┆ Rep2      ┆ cfDNA  ┆ `000    ┆ 1086     ┆ r_10035:10044:1 │\n",
       "│        ┆ 75              ┆           ┆           ┆        ┆         ┆          ┆ 0075_`000       │\n",
       "└────────┴─────────────────┴───────────┴───────────┴────────┴─────────┴──────────┴─────────────────┘"
      ]
     },
     "execution_count": 18,
     "metadata": {},
     "output_type": "execute_result"
    }
   ],
   "source": [
    "df_melt_polars = pl.read_parquet(f'{RESULTS_FOLDER}/methylation_data.parquet')\n",
    "df_melt_polars.head()"
   ]
  },
  {
   "cell_type": "code",
   "execution_count": 19,
   "id": "4f94bfae-1fe7-4f50-96b4-ed68318f9f74",
   "metadata": {},
   "outputs": [],
   "source": [
    "df_pmp = df_melt_polars.group_by([\"Tissue\", \"PMP_ID\"]).agg(pl.col(\"coverage\").sum().alias(\"coverage\"))\n",
    "tissue_totals = df_pmp.group_by(\"Tissue\").agg(pl.col(\"coverage\").sum().alias(\"total_coverage\"))"
   ]
  },
  {
   "cell_type": "code",
   "execution_count": 20,
   "id": "295387d9-a08c-4501-8709-92f9220a032f",
   "metadata": {},
   "outputs": [],
   "source": [
    "def compute_fisher(row, t1_total, t2_total):\n",
    "    counts_t1 = row.get(\"Islet\", 0)\n",
    "    counts_t2 = row.get(\"cfDNA\", 0)\n",
    "    nonpmp_t1 = t1_total - counts_t1\n",
    "    nonpmp_t2 = t2_total - counts_t2\n",
    "    table = [[counts_t1, nonpmp_t1], \n",
    "             [counts_t2, nonpmp_t2]]\n",
    "    # alternative=\"less\" should minimise false positives\n",
    "    # 1st row in table should be reference/baseline population\n",
    "    odds, pval = fisher_exact(table, alternative=\"less\")\n",
    "    return counts_t1, counts_t2, odds, pval"
   ]
  },
  {
   "cell_type": "code",
   "execution_count": 21,
   "id": "111400ca-5a67-4e06-b76c-3d40f36c04a9",
   "metadata": {},
   "outputs": [],
   "source": [
    "df_pivot = df_pmp.pivot(index=\"PMP_ID\", on=\"Tissue\", values=\"coverage\").fill_null(0)\n",
    "t1_total = tissue_totals.filter(pl.col(\"Tissue\") == \"Islet\").select(\"total_coverage\").to_numpy()[0][0]\n",
    "t2_total = tissue_totals.filter(pl.col(\"Tissue\") == \"cfDNA\").select(\"total_coverage\").to_numpy()[0][0]\n",
    "\n",
    "results = []\n",
    "\n",
    "for row in df_pivot.iter_rows():\n",
    "    pmp_id = row[0] \n",
    "    row_data = dict(zip(df_pivot.columns[1:], row[1:]))\n",
    "    counts_t1, counts_t2, odds, pval = compute_fisher(row_data, t1_total, t2_total)\n",
    "    \n",
    "    results.append({\n",
    "        \"PMP_ID\": pmp_id,\n",
    "        \"counts_T1\": counts_t1,\n",
    "        \"counts_T2\": counts_t2,\n",
    "        \"odds_ratio\": odds,\n",
    "        \"p_value\": pval\n",
    "    })\n",
    "\n",
    "df_results = pl.DataFrame(results).sort(\"p_value\")"
   ]
  },
  {
   "cell_type": "code",
   "execution_count": 22,
   "id": "6fcfcb78-788a-4c7c-b660-206160c718b0",
   "metadata": {},
   "outputs": [
    {
     "data": {
      "text/html": [
       "<div>\n",
       "<style scoped>\n",
       "    .dataframe tbody tr th:only-of-type {\n",
       "        vertical-align: middle;\n",
       "    }\n",
       "\n",
       "    .dataframe tbody tr th {\n",
       "        vertical-align: top;\n",
       "    }\n",
       "\n",
       "    .dataframe thead th {\n",
       "        text-align: right;\n",
       "    }\n",
       "</style>\n",
       "<table border=\"1\" class=\"dataframe\">\n",
       "  <thead>\n",
       "    <tr style=\"text-align: right;\">\n",
       "      <th></th>\n",
       "      <th>PMP_ID</th>\n",
       "      <th>counts_T1</th>\n",
       "      <th>counts_T2</th>\n",
       "      <th>odds_ratio</th>\n",
       "      <th>p_value</th>\n",
       "    </tr>\n",
       "  </thead>\n",
       "  <tbody>\n",
       "    <tr>\n",
       "      <th>1206</th>\n",
       "      <td>f_10319:10335:10343_`000</td>\n",
       "      <td>23799</td>\n",
       "      <td>653531</td>\n",
       "      <td>0.766693</td>\n",
       "      <td>0.0</td>\n",
       "    </tr>\n",
       "    <tr>\n",
       "      <th>5576</th>\n",
       "      <td>f_10319:10343:10363_`000</td>\n",
       "      <td>21459</td>\n",
       "      <td>595989</td>\n",
       "      <td>0.758054</td>\n",
       "      <td>0.0</td>\n",
       "    </tr>\n",
       "    <tr>\n",
       "      <th>6165</th>\n",
       "      <td>f_10294:10312:10343_`000</td>\n",
       "      <td>17244</td>\n",
       "      <td>480713</td>\n",
       "      <td>0.755235</td>\n",
       "      <td>0.0</td>\n",
       "    </tr>\n",
       "    <tr>\n",
       "      <th>8398</th>\n",
       "      <td>f_10319:10363:10372_`000</td>\n",
       "      <td>19445</td>\n",
       "      <td>544013</td>\n",
       "      <td>0.752538</td>\n",
       "      <td>0.0</td>\n",
       "    </tr>\n",
       "    <tr>\n",
       "      <th>6770</th>\n",
       "      <td>f_10343:10363:10372_`000</td>\n",
       "      <td>24825</td>\n",
       "      <td>699173</td>\n",
       "      <td>0.747537</td>\n",
       "      <td>0.0</td>\n",
       "    </tr>\n",
       "  </tbody>\n",
       "</table>\n",
       "</div>"
      ],
      "text/plain": [
       "                        PMP_ID  counts_T1  counts_T2  odds_ratio  p_value\n",
       "1206  f_10319:10335:10343_`000      23799     653531    0.766693      0.0\n",
       "5576  f_10319:10343:10363_`000      21459     595989    0.758054      0.0\n",
       "6165  f_10294:10312:10343_`000      17244     480713    0.755235      0.0\n",
       "8398  f_10319:10363:10372_`000      19445     544013    0.752538      0.0\n",
       "6770  f_10343:10363:10372_`000      24825     699173    0.747537      0.0"
      ]
     },
     "execution_count": 22,
     "metadata": {},
     "output_type": "execute_result"
    }
   ],
   "source": [
    "# Ideally p_value should be low and odds_ratio should be high\n",
    "# p_value shows whether coverage differs beyond random chance\n",
    "# odds_ratio shows how big this difference is \n",
    "\n",
    "df_results = df_results.to_pandas()\n",
    "df_results = df_results.sort_values(by=['p_value', 'odds_ratio'], ascending=[True, False])\n",
    "df_results.head()"
   ]
  },
  {
   "cell_type": "code",
   "execution_count": 23,
   "id": "826fb9bc-18ec-4503-80c3-ff9186d8e35a",
   "metadata": {},
   "outputs": [
    {
     "data": {
      "text/html": [
       "<div><style>\n",
       ".dataframe > thead > tr,\n",
       ".dataframe > tbody > tr {\n",
       "  text-align: right;\n",
       "  white-space: pre-wrap;\n",
       "}\n",
       "</style>\n",
       "<small>shape: (5, 3)</small><table border=\"1\" class=\"dataframe\"><thead><tr><th>PMP_ID</th><th>cfDNA_VRF</th><th>Islet_VRF</th></tr><tr><td>str</td><td>f64</td><td>f64</td></tr></thead><tbody><tr><td>&quot;r_8479:8591:8598_`101&quot;</td><td>2.1261e-9</td><td>0.0</td></tr><tr><td>&quot;r_7508:7555:7625_`100&quot;</td><td>6.8034e-10</td><td>0.0</td></tr><tr><td>&quot;r_8287:8325:8333_`111&quot;</td><td>1.5903e-8</td><td>0.0</td></tr><tr><td>&quot;f_8464:8508:8595_`000&quot;</td><td>5.7761e-7</td><td>0.000001</td></tr><tr><td>&quot;f_6849:6956:6979_`000&quot;</td><td>1.7689e-8</td><td>1.9695e-8</td></tr></tbody></table></div>"
      ],
      "text/plain": [
       "shape: (5, 3)\n",
       "┌───────────────────────┬────────────┬───────────┐\n",
       "│ PMP_ID                ┆ cfDNA_VRF  ┆ Islet_VRF │\n",
       "│ ---                   ┆ ---        ┆ ---       │\n",
       "│ str                   ┆ f64        ┆ f64       │\n",
       "╞═══════════════════════╪════════════╪═══════════╡\n",
       "│ r_8479:8591:8598_`101 ┆ 2.1261e-9  ┆ 0.0       │\n",
       "│ r_7508:7555:7625_`100 ┆ 6.8034e-10 ┆ 0.0       │\n",
       "│ r_8287:8325:8333_`111 ┆ 1.5903e-8  ┆ 0.0       │\n",
       "│ f_8464:8508:8595_`000 ┆ 5.7761e-7  ┆ 0.000001  │\n",
       "│ f_6849:6956:6979_`000 ┆ 1.7689e-8  ┆ 1.9695e-8 │\n",
       "└───────────────────────┴────────────┴───────────┘"
      ]
     },
     "execution_count": 23,
     "metadata": {},
     "output_type": "execute_result"
    }
   ],
   "source": [
    "# Calculate the mean variant read fraction (VRF) for each PMP in both tissues\n",
    "df_merged = df_pmp.join(tissue_totals, on='Tissue', how='left').with_columns(\n",
    "    (pl.col(\"coverage\") / pl.col(\"total_coverage\")).alias(\"VRF\")\n",
    ")\n",
    "df_vrf = df_merged.pivot(index='PMP_ID', on='Tissue', values='VRF')\n",
    "rename_columns = {col: col + \"_VRF\" for col in df_vrf.columns if col != \"PMP_ID\"}\n",
    "df_vrf = df_vrf.rename(rename_columns)\n",
    "df_vrf.head()"
   ]
  },
  {
   "cell_type": "code",
   "execution_count": 24,
   "id": "c665f15a-a3fd-4a94-a7f7-a0a9fc04d36d",
   "metadata": {},
   "outputs": [],
   "source": [
    "df_results_pl = pl.from_pandas(df_results)\n",
    "df_final = df_results_pl.join(df_vrf, on=\"PMP_ID\", how='left')\n",
    "df_final = df_final.to_pandas()"
   ]
  },
  {
   "cell_type": "code",
   "execution_count": 25,
   "id": "1cf1a09c-26e9-4f15-8e52-fa2fd0be80a5",
   "metadata": {},
   "outputs": [],
   "source": [
    "df_final = df_final.sort_values(by=['p_value', 'odds_ratio'], ascending=[True, False])\n",
    "df_final.to_pickle(f'{RESULTS_FOLDER}/biomarker_results.pickle')"
   ]
  },
  {
   "cell_type": "code",
   "execution_count": 26,
   "id": "0f215e9c-760b-4bc0-b291-23469f1d1360",
   "metadata": {},
   "outputs": [
    {
     "data": {
      "text/html": [
       "<div>\n",
       "<style scoped>\n",
       "    .dataframe tbody tr th:only-of-type {\n",
       "        vertical-align: middle;\n",
       "    }\n",
       "\n",
       "    .dataframe tbody tr th {\n",
       "        vertical-align: top;\n",
       "    }\n",
       "\n",
       "    .dataframe thead th {\n",
       "        text-align: right;\n",
       "    }\n",
       "</style>\n",
       "<table border=\"1\" class=\"dataframe\">\n",
       "  <thead>\n",
       "    <tr style=\"text-align: right;\">\n",
       "      <th></th>\n",
       "      <th>PMP_ID</th>\n",
       "      <th>counts_T1</th>\n",
       "      <th>counts_T2</th>\n",
       "      <th>odds_ratio</th>\n",
       "      <th>p_value</th>\n",
       "      <th>cfDNA_VRF</th>\n",
       "      <th>Islet_VRF</th>\n",
       "    </tr>\n",
       "  </thead>\n",
       "  <tbody>\n",
       "    <tr>\n",
       "      <th>0</th>\n",
       "      <td>f_10319:10335:10343_`000</td>\n",
       "      <td>23799</td>\n",
       "      <td>653531</td>\n",
       "      <td>0.766693</td>\n",
       "      <td>0.0</td>\n",
       "      <td>0.000056</td>\n",
       "      <td>0.000043</td>\n",
       "    </tr>\n",
       "    <tr>\n",
       "      <th>1</th>\n",
       "      <td>f_10319:10343:10363_`000</td>\n",
       "      <td>21459</td>\n",
       "      <td>595989</td>\n",
       "      <td>0.758054</td>\n",
       "      <td>0.0</td>\n",
       "      <td>0.000051</td>\n",
       "      <td>0.000038</td>\n",
       "    </tr>\n",
       "    <tr>\n",
       "      <th>2</th>\n",
       "      <td>f_10294:10312:10343_`000</td>\n",
       "      <td>17244</td>\n",
       "      <td>480713</td>\n",
       "      <td>0.755235</td>\n",
       "      <td>0.0</td>\n",
       "      <td>0.000041</td>\n",
       "      <td>0.000031</td>\n",
       "    </tr>\n",
       "    <tr>\n",
       "      <th>3</th>\n",
       "      <td>f_10319:10363:10372_`000</td>\n",
       "      <td>19445</td>\n",
       "      <td>544013</td>\n",
       "      <td>0.752538</td>\n",
       "      <td>0.0</td>\n",
       "      <td>0.000046</td>\n",
       "      <td>0.000035</td>\n",
       "    </tr>\n",
       "    <tr>\n",
       "      <th>4</th>\n",
       "      <td>f_10343:10363:10372_`000</td>\n",
       "      <td>24825</td>\n",
       "      <td>699173</td>\n",
       "      <td>0.747537</td>\n",
       "      <td>0.0</td>\n",
       "      <td>0.000059</td>\n",
       "      <td>0.000044</td>\n",
       "    </tr>\n",
       "    <tr>\n",
       "      <th>5</th>\n",
       "      <td>f_10298:10335:10363_`000</td>\n",
       "      <td>14915</td>\n",
       "      <td>430810</td>\n",
       "      <td>0.728899</td>\n",
       "      <td>0.0</td>\n",
       "      <td>0.000037</td>\n",
       "      <td>0.000027</td>\n",
       "    </tr>\n",
       "    <tr>\n",
       "      <th>6</th>\n",
       "      <td>f_13794:13806:13811_`000</td>\n",
       "      <td>13732</td>\n",
       "      <td>398534</td>\n",
       "      <td>0.725436</td>\n",
       "      <td>0.0</td>\n",
       "      <td>0.000034</td>\n",
       "      <td>0.000025</td>\n",
       "    </tr>\n",
       "    <tr>\n",
       "      <th>7</th>\n",
       "      <td>f_10381:10393:10439_`000</td>\n",
       "      <td>14537</td>\n",
       "      <td>422473</td>\n",
       "      <td>0.724446</td>\n",
       "      <td>0.0</td>\n",
       "      <td>0.000036</td>\n",
       "      <td>0.000026</td>\n",
       "    </tr>\n",
       "    <tr>\n",
       "      <th>8</th>\n",
       "      <td>f_10298:10363:10381_`000</td>\n",
       "      <td>13151</td>\n",
       "      <td>382328</td>\n",
       "      <td>0.724191</td>\n",
       "      <td>0.0</td>\n",
       "      <td>0.000033</td>\n",
       "      <td>0.000024</td>\n",
       "    </tr>\n",
       "    <tr>\n",
       "      <th>9</th>\n",
       "      <td>f_10312:10319:10343_`000</td>\n",
       "      <td>20842</td>\n",
       "      <td>606242</td>\n",
       "      <td>0.723805</td>\n",
       "      <td>0.0</td>\n",
       "      <td>0.000052</td>\n",
       "      <td>0.000037</td>\n",
       "    </tr>\n",
       "  </tbody>\n",
       "</table>\n",
       "</div>"
      ],
      "text/plain": [
       "                     PMP_ID  counts_T1  counts_T2  odds_ratio  p_value  \\\n",
       "0  f_10319:10335:10343_`000      23799     653531    0.766693      0.0   \n",
       "1  f_10319:10343:10363_`000      21459     595989    0.758054      0.0   \n",
       "2  f_10294:10312:10343_`000      17244     480713    0.755235      0.0   \n",
       "3  f_10319:10363:10372_`000      19445     544013    0.752538      0.0   \n",
       "4  f_10343:10363:10372_`000      24825     699173    0.747537      0.0   \n",
       "5  f_10298:10335:10363_`000      14915     430810    0.728899      0.0   \n",
       "6  f_13794:13806:13811_`000      13732     398534    0.725436      0.0   \n",
       "7  f_10381:10393:10439_`000      14537     422473    0.724446      0.0   \n",
       "8  f_10298:10363:10381_`000      13151     382328    0.724191      0.0   \n",
       "9  f_10312:10319:10343_`000      20842     606242    0.723805      0.0   \n",
       "\n",
       "   cfDNA_VRF  Islet_VRF  \n",
       "0   0.000056   0.000043  \n",
       "1   0.000051   0.000038  \n",
       "2   0.000041   0.000031  \n",
       "3   0.000046   0.000035  \n",
       "4   0.000059   0.000044  \n",
       "5   0.000037   0.000027  \n",
       "6   0.000034   0.000025  \n",
       "7   0.000036   0.000026  \n",
       "8   0.000033   0.000024  \n",
       "9   0.000052   0.000037  "
      ]
     },
     "execution_count": 26,
     "metadata": {},
     "output_type": "execute_result"
    }
   ],
   "source": [
    "# The top 10 are all unmethylated - 000 pattern\n",
    "top_10 = df_final.head(10)\n",
    "top_10"
   ]
  },
  {
   "cell_type": "markdown",
   "id": "c4053c41-e9c0-46ac-aca4-990674db89e9",
   "metadata": {},
   "source": [
    "# Other questions"
   ]
  },
  {
   "cell_type": "code",
   "execution_count": 27,
   "id": "d31487a6-5cff-494b-95da-0d491f65870d",
   "metadata": {},
   "outputs": [
    {
     "name": "stderr",
     "output_type": "stream",
     "text": [
      "/var/folders/v3/mjtzd81975xfhjl0809f2c4r0000gn/T/ipykernel_34730/2271620378.py:18: SettingWithCopyWarning: \n",
      "A value is trying to be set on a copy of a slice from a DataFrame.\n",
      "Try using .loc[row_indexer,col_indexer] = value instead\n",
      "\n",
      "See the caveats in the documentation: https://pandas.pydata.org/pandas-docs/stable/user_guide/indexing.html#returning-a-view-versus-a-copy\n",
      "  top_10['required_reads'] = top_10['cfDNA_VRF'] * target_depth\n"
     ]
    },
    {
     "data": {
      "text/html": [
       "<div>\n",
       "<style scoped>\n",
       "    .dataframe tbody tr th:only-of-type {\n",
       "        vertical-align: middle;\n",
       "    }\n",
       "\n",
       "    .dataframe tbody tr th {\n",
       "        vertical-align: top;\n",
       "    }\n",
       "\n",
       "    .dataframe thead th {\n",
       "        text-align: right;\n",
       "    }\n",
       "</style>\n",
       "<table border=\"1\" class=\"dataframe\">\n",
       "  <thead>\n",
       "    <tr style=\"text-align: right;\">\n",
       "      <th></th>\n",
       "      <th>PMP_ID</th>\n",
       "      <th>counts_T1</th>\n",
       "      <th>counts_T2</th>\n",
       "      <th>odds_ratio</th>\n",
       "      <th>p_value</th>\n",
       "      <th>cfDNA_VRF</th>\n",
       "      <th>Islet_VRF</th>\n",
       "      <th>required_reads</th>\n",
       "    </tr>\n",
       "  </thead>\n",
       "  <tbody>\n",
       "    <tr>\n",
       "      <th>0</th>\n",
       "      <td>f_10319:10335:10343_`000</td>\n",
       "      <td>23799</td>\n",
       "      <td>653531</td>\n",
       "      <td>0.766693</td>\n",
       "      <td>0.0</td>\n",
       "      <td>0.000056</td>\n",
       "      <td>0.000043</td>\n",
       "      <td>55.578003</td>\n",
       "    </tr>\n",
       "    <tr>\n",
       "      <th>1</th>\n",
       "      <td>f_10319:10343:10363_`000</td>\n",
       "      <td>21459</td>\n",
       "      <td>595989</td>\n",
       "      <td>0.758054</td>\n",
       "      <td>0.0</td>\n",
       "      <td>0.000051</td>\n",
       "      <td>0.000038</td>\n",
       "      <td>50.684480</td>\n",
       "    </tr>\n",
       "    <tr>\n",
       "      <th>2</th>\n",
       "      <td>f_10294:10312:10343_`000</td>\n",
       "      <td>17244</td>\n",
       "      <td>480713</td>\n",
       "      <td>0.755235</td>\n",
       "      <td>0.0</td>\n",
       "      <td>0.000041</td>\n",
       "      <td>0.000031</td>\n",
       "      <td>40.881104</td>\n",
       "    </tr>\n",
       "    <tr>\n",
       "      <th>3</th>\n",
       "      <td>f_10319:10363:10372_`000</td>\n",
       "      <td>19445</td>\n",
       "      <td>544013</td>\n",
       "      <td>0.752538</td>\n",
       "      <td>0.0</td>\n",
       "      <td>0.000046</td>\n",
       "      <td>0.000035</td>\n",
       "      <td>46.264303</td>\n",
       "    </tr>\n",
       "    <tr>\n",
       "      <th>4</th>\n",
       "      <td>f_10343:10363:10372_`000</td>\n",
       "      <td>24825</td>\n",
       "      <td>699173</td>\n",
       "      <td>0.747537</td>\n",
       "      <td>0.0</td>\n",
       "      <td>0.000059</td>\n",
       "      <td>0.000044</td>\n",
       "      <td>59.459520</td>\n",
       "    </tr>\n",
       "    <tr>\n",
       "      <th>5</th>\n",
       "      <td>f_10298:10335:10363_`000</td>\n",
       "      <td>14915</td>\n",
       "      <td>430810</td>\n",
       "      <td>0.728899</td>\n",
       "      <td>0.0</td>\n",
       "      <td>0.000037</td>\n",
       "      <td>0.000027</td>\n",
       "      <td>36.637221</td>\n",
       "    </tr>\n",
       "    <tr>\n",
       "      <th>6</th>\n",
       "      <td>f_13794:13806:13811_`000</td>\n",
       "      <td>13732</td>\n",
       "      <td>398534</td>\n",
       "      <td>0.725436</td>\n",
       "      <td>0.0</td>\n",
       "      <td>0.000034</td>\n",
       "      <td>0.000025</td>\n",
       "      <td>33.892385</td>\n",
       "    </tr>\n",
       "    <tr>\n",
       "      <th>7</th>\n",
       "      <td>f_10381:10393:10439_`000</td>\n",
       "      <td>14537</td>\n",
       "      <td>422473</td>\n",
       "      <td>0.724446</td>\n",
       "      <td>0.0</td>\n",
       "      <td>0.000036</td>\n",
       "      <td>0.000026</td>\n",
       "      <td>35.928220</td>\n",
       "    </tr>\n",
       "    <tr>\n",
       "      <th>8</th>\n",
       "      <td>f_10298:10363:10381_`000</td>\n",
       "      <td>13151</td>\n",
       "      <td>382328</td>\n",
       "      <td>0.724191</td>\n",
       "      <td>0.0</td>\n",
       "      <td>0.000033</td>\n",
       "      <td>0.000024</td>\n",
       "      <td>32.514184</td>\n",
       "    </tr>\n",
       "    <tr>\n",
       "      <th>9</th>\n",
       "      <td>f_10312:10319:10343_`000</td>\n",
       "      <td>20842</td>\n",
       "      <td>606242</td>\n",
       "      <td>0.723805</td>\n",
       "      <td>0.0</td>\n",
       "      <td>0.000052</td>\n",
       "      <td>0.000037</td>\n",
       "      <td>51.556422</td>\n",
       "    </tr>\n",
       "  </tbody>\n",
       "</table>\n",
       "</div>"
      ],
      "text/plain": [
       "                     PMP_ID  counts_T1  counts_T2  odds_ratio  p_value  \\\n",
       "0  f_10319:10335:10343_`000      23799     653531    0.766693      0.0   \n",
       "1  f_10319:10343:10363_`000      21459     595989    0.758054      0.0   \n",
       "2  f_10294:10312:10343_`000      17244     480713    0.755235      0.0   \n",
       "3  f_10319:10363:10372_`000      19445     544013    0.752538      0.0   \n",
       "4  f_10343:10363:10372_`000      24825     699173    0.747537      0.0   \n",
       "5  f_10298:10335:10363_`000      14915     430810    0.728899      0.0   \n",
       "6  f_13794:13806:13811_`000      13732     398534    0.725436      0.0   \n",
       "7  f_10381:10393:10439_`000      14537     422473    0.724446      0.0   \n",
       "8  f_10298:10363:10381_`000      13151     382328    0.724191      0.0   \n",
       "9  f_10312:10319:10343_`000      20842     606242    0.723805      0.0   \n",
       "\n",
       "   cfDNA_VRF  Islet_VRF  required_reads  \n",
       "0   0.000056   0.000043       55.578003  \n",
       "1   0.000051   0.000038       50.684480  \n",
       "2   0.000041   0.000031       40.881104  \n",
       "3   0.000046   0.000035       46.264303  \n",
       "4   0.000059   0.000044       59.459520  \n",
       "5   0.000037   0.000027       36.637221  \n",
       "6   0.000034   0.000025       33.892385  \n",
       "7   0.000036   0.000026       35.928220  \n",
       "8   0.000033   0.000024       32.514184  \n",
       "9   0.000052   0.000037       51.556422  "
      ]
     },
     "execution_count": 27,
     "metadata": {},
     "output_type": "execute_result"
    }
   ],
   "source": [
    "# How does sequencing depth affect specificity confidence?\n",
    "# Higher depth provides more reads and improves accuracy of coverage estimates\n",
    "# It decreases p_value/increases statistical significance\n",
    "# It also helps reduce false positives and negatives\n",
    "\n",
    "# For the top 10 PMPs, estimate the threshold of reads required to confidently call Tissue #2 \n",
    "# at a sequencing depth of 1 million reads\n",
    "\n",
    "# Since VRF = reads for PMP/total reads, we can use VRF to answer the question above\n",
    "pval_threshold = 0.05\n",
    "target_depth = 1_000_000\n",
    "num_tests = top_10.shape[0]\n",
    "bonferroni_threshold = pval_threshold/num_tests\n",
    "\n",
    "# The top 10 PMPs are significant even after p_value is adjusted using bonferroni correction\n",
    "# The actual T2 counts are much higher than required_reads\n",
    "# So this strengthens the argument that these PMPs are highly enriched in cfDNA samples\n",
    "top_10['required_reads'] = top_10['cfDNA_VRF'] * target_depth\n",
    "top_10"
   ]
  },
  {
   "cell_type": "code",
   "execution_count": 28,
   "id": "03b86920-277a-4d90-93ad-c859aabdbab4",
   "metadata": {},
   "outputs": [],
   "source": [
    "top_10_pmps = top_10['PMP_ID'].to_list()\n",
    "top_10_pmps_sites = [x[2:-5] for x in top_10_pmps]"
   ]
  },
  {
   "cell_type": "code",
   "execution_count": 29,
   "id": "b1881e88-2f22-46ca-86cf-e4d41a6ea547",
   "metadata": {},
   "outputs": [
    {
     "data": {
      "text/html": [
       "<div><style>\n",
       ".dataframe > thead > tr,\n",
       ".dataframe > tbody > tr {\n",
       "  text-align: right;\n",
       "  white-space: pre-wrap;\n",
       "}\n",
       "</style>\n",
       "<small>shape: (5_445_288, 8)</small><table border=\"1\" class=\"dataframe\"><thead><tr><th>strand</th><th>CpG_Coordinates</th><th>Sample_ID</th><th>Replicate</th><th>Tissue</th><th>pattern</th><th>coverage</th><th>PMP_ID</th></tr><tr><td>str</td><td>str</td><td>i64</td><td>str</td><td>str</td><td>str</td><td>i64</td><td>str</td></tr></thead><tbody><tr><td>&quot;r&quot;</td><td>&quot;10159:10162:10294&quot;</td><td>1</td><td>&quot;Rep2&quot;</td><td>&quot;cfDNA&quot;</td><td>&quot;`000&quot;</td><td>173</td><td>&quot;r_10159:10162:10294_`000&quot;</td></tr><tr><td>&quot;r&quot;</td><td>&quot;10159:10162:10298&quot;</td><td>1</td><td>&quot;Rep2&quot;</td><td>&quot;cfDNA&quot;</td><td>&quot;`000&quot;</td><td>147</td><td>&quot;r_10159:10162:10298_`000&quot;</td></tr><tr><td>&quot;r&quot;</td><td>&quot;10159:10179:10294&quot;</td><td>1</td><td>&quot;Rep2&quot;</td><td>&quot;cfDNA&quot;</td><td>&quot;`000&quot;</td><td>173</td><td>&quot;r_10159:10179:10294_`000&quot;</td></tr><tr><td>&quot;r&quot;</td><td>&quot;10159:10179:10298&quot;</td><td>1</td><td>&quot;Rep2&quot;</td><td>&quot;cfDNA&quot;</td><td>&quot;`000&quot;</td><td>147</td><td>&quot;r_10159:10179:10298_`000&quot;</td></tr><tr><td>&quot;r&quot;</td><td>&quot;10159:10184:10294&quot;</td><td>1</td><td>&quot;Rep2&quot;</td><td>&quot;cfDNA&quot;</td><td>&quot;`000&quot;</td><td>173</td><td>&quot;r_10159:10184:10294_`000&quot;</td></tr><tr><td>&hellip;</td><td>&hellip;</td><td>&hellip;</td><td>&hellip;</td><td>&hellip;</td><td>&hellip;</td><td>&hellip;</td><td>&hellip;</td></tr><tr><td>&quot;f&quot;</td><td>&quot;13811:13905:13938&quot;</td><td>80</td><td>&quot;Rep1&quot;</td><td>&quot;Islet&quot;</td><td>&quot;`111&quot;</td><td>10</td><td>&quot;f_13811:13905:13938_`111&quot;</td></tr><tr><td>&quot;f&quot;</td><td>&quot;13811:13905:13941&quot;</td><td>80</td><td>&quot;Rep1&quot;</td><td>&quot;Islet&quot;</td><td>&quot;`111&quot;</td><td>0</td><td>&quot;f_13811:13905:13941_`111&quot;</td></tr><tr><td>&quot;f&quot;</td><td>&quot;13811:13912:13938&quot;</td><td>80</td><td>&quot;Rep1&quot;</td><td>&quot;Islet&quot;</td><td>&quot;`111&quot;</td><td>21</td><td>&quot;f_13811:13912:13938_`111&quot;</td></tr><tr><td>&quot;f&quot;</td><td>&quot;13811:13912:13941&quot;</td><td>80</td><td>&quot;Rep1&quot;</td><td>&quot;Islet&quot;</td><td>&quot;`111&quot;</td><td>7</td><td>&quot;f_13811:13912:13941_`111&quot;</td></tr><tr><td>&quot;f&quot;</td><td>&quot;13811:13938:13941&quot;</td><td>80</td><td>&quot;Rep1&quot;</td><td>&quot;Islet&quot;</td><td>&quot;`111&quot;</td><td>7</td><td>&quot;f_13811:13938:13941_`111&quot;</td></tr></tbody></table></div>"
      ],
      "text/plain": [
       "shape: (5_445_288, 8)\n",
       "┌────────┬─────────────────┬───────────┬───────────┬────────┬─────────┬──────────┬─────────────────┐\n",
       "│ strand ┆ CpG_Coordinates ┆ Sample_ID ┆ Replicate ┆ Tissue ┆ pattern ┆ coverage ┆ PMP_ID          │\n",
       "│ ---    ┆ ---             ┆ ---       ┆ ---       ┆ ---    ┆ ---     ┆ ---      ┆ ---             │\n",
       "│ str    ┆ str             ┆ i64       ┆ str       ┆ str    ┆ str     ┆ i64      ┆ str             │\n",
       "╞════════╪═════════════════╪═══════════╪═══════════╪════════╪═════════╪══════════╪═════════════════╡\n",
       "│ r      ┆ 10159:10162:102 ┆ 1         ┆ Rep2      ┆ cfDNA  ┆ `000    ┆ 173      ┆ r_10159:10162:1 │\n",
       "│        ┆ 94              ┆           ┆           ┆        ┆         ┆          ┆ 0294_`000       │\n",
       "│ r      ┆ 10159:10162:102 ┆ 1         ┆ Rep2      ┆ cfDNA  ┆ `000    ┆ 147      ┆ r_10159:10162:1 │\n",
       "│        ┆ 98              ┆           ┆           ┆        ┆         ┆          ┆ 0298_`000       │\n",
       "│ r      ┆ 10159:10179:102 ┆ 1         ┆ Rep2      ┆ cfDNA  ┆ `000    ┆ 173      ┆ r_10159:10179:1 │\n",
       "│        ┆ 94              ┆           ┆           ┆        ┆         ┆          ┆ 0294_`000       │\n",
       "│ r      ┆ 10159:10179:102 ┆ 1         ┆ Rep2      ┆ cfDNA  ┆ `000    ┆ 147      ┆ r_10159:10179:1 │\n",
       "│        ┆ 98              ┆           ┆           ┆        ┆         ┆          ┆ 0298_`000       │\n",
       "│ r      ┆ 10159:10184:102 ┆ 1         ┆ Rep2      ┆ cfDNA  ┆ `000    ┆ 173      ┆ r_10159:10184:1 │\n",
       "│        ┆ 94              ┆           ┆           ┆        ┆         ┆          ┆ 0294_`000       │\n",
       "│ …      ┆ …               ┆ …         ┆ …         ┆ …      ┆ …       ┆ …        ┆ …               │\n",
       "│ f      ┆ 13811:13905:139 ┆ 80        ┆ Rep1      ┆ Islet  ┆ `111    ┆ 10       ┆ f_13811:13905:1 │\n",
       "│        ┆ 38              ┆           ┆           ┆        ┆         ┆          ┆ 3938_`111       │\n",
       "│ f      ┆ 13811:13905:139 ┆ 80        ┆ Rep1      ┆ Islet  ┆ `111    ┆ 0        ┆ f_13811:13905:1 │\n",
       "│        ┆ 41              ┆           ┆           ┆        ┆         ┆          ┆ 3941_`111       │\n",
       "│ f      ┆ 13811:13912:139 ┆ 80        ┆ Rep1      ┆ Islet  ┆ `111    ┆ 21       ┆ f_13811:13912:1 │\n",
       "│        ┆ 38              ┆           ┆           ┆        ┆         ┆          ┆ 3938_`111       │\n",
       "│ f      ┆ 13811:13912:139 ┆ 80        ┆ Rep1      ┆ Islet  ┆ `111    ┆ 7        ┆ f_13811:13912:1 │\n",
       "│        ┆ 41              ┆           ┆           ┆        ┆         ┆          ┆ 3941_`111       │\n",
       "│ f      ┆ 13811:13938:139 ┆ 80        ┆ Rep1      ┆ Islet  ┆ `111    ┆ 7        ┆ f_13811:13938:1 │\n",
       "│        ┆ 41              ┆           ┆           ┆        ┆         ┆          ┆ 3941_`111       │\n",
       "└────────┴─────────────────┴───────────┴───────────┴────────┴─────────┴──────────┴─────────────────┘"
      ]
     },
     "execution_count": 29,
     "metadata": {},
     "output_type": "execute_result"
    }
   ],
   "source": [
    "top_10_cpg_sites = (\n",
    "    pl.DataFrame({\"PMP_ID\": top_10_pmps_sites})\n",
    "    .select(pl.col(\"PMP_ID\").str.split(\":\").explode())\n",
    "    .unique()\n",
    ")\n",
    "\n",
    "# Convert to a list for filtering\n",
    "cpg_site_list = top_10_cpg_sites.to_series().to_list()\n",
    "\n",
    "# Step 2: Filter the main dataframe based on CpG sites\n",
    "filtered_df = df_melt_polars.filter(\n",
    "    # Pipe symbol works as a logical OR operator\n",
    "    pl.col(\"CpG_Coordinates\").str.contains(\"|\".join(cpg_site_list))\n",
    ")\n",
    "\n",
    "filtered_df"
   ]
  },
  {
   "cell_type": "code",
   "execution_count": 30,
   "id": "4fa396bd-da21-4ba8-913a-391b17db407d",
   "metadata": {},
   "outputs": [],
   "source": [
    "def extract_single_cpg_sites(df_melt, patterns):\n",
    "    \n",
    "    df_melt = df_melt.with_columns(\n",
    "        pl.col(\"CpG_Coordinates\").str.split(\":\").alias(\"CpG_Sites\")\n",
    "\n",
    "    )\n",
    "\n",
    "    # Extract methylation states from the pattern column\n",
    "    df_melt = df_melt.with_columns(\n",
    "        pl.col(\"pattern\").str.strip_chars(\"`\").alias(\"Methylation_States\")\n",
    "    )\n",
    "\n",
    "    # Split Methylation_States into a list of characters\n",
    "    df_melt = df_melt.with_columns(\n",
    "        pl.col(\"Methylation_States\").str.split(\"\").alias(\"Methylation_State\")\n",
    "    )\n",
    "\n",
    "    # Explode CpG_Sites and Methylation_List\n",
    "    df_exploded = df_melt.explode([\"CpG_Sites\", \"Methylation_State\"])\n",
    "\n",
    "    # Create CpG_Site_ID by combining CpG site, strand, and methylation state\n",
    "    df_exploded = df_exploded.with_columns(\n",
    "        (pl.col(\"strand\") + \"_\" + pl.col(\"CpG_Sites\") + \"_\" + pl.col(\"Methylation_State\")).alias(\"CpG_Site_ID\")\n",
    "    )\n",
    "\n",
    "    return df_exploded"
   ]
  },
  {
   "cell_type": "code",
   "execution_count": 31,
   "id": "6ba42fe2-df67-4563-acb8-2c29bf180362",
   "metadata": {},
   "outputs": [],
   "source": [
    "# Validate the hypothesis by comparing the specificity of the top 10 PMPs against individual CpG sites.\n",
    "# To do this, we need to break down PMPs into individual CpG sites\n",
    "\n",
    "single_cpg_df = extract_single_cpg_sites(filtered_df, patterns)\n",
    "single_cpg_df.write_parquet(f'{RESULTS_FOLDER}/single_cpg_data.parquet')\n",
    "\n",
    "# Aggregate coverage for each CpG site with strand and methylation state\n",
    "single_cpg_agg = single_cpg_df.group_by(\n",
    "    [\"CpG_Site_ID\", \"Tissue\"]\n",
    ").agg(\n",
    "    pl.col(\"coverage\").sum().alias(\"CpG_Site_Coverage\")\n",
    ")\n",
    "\n",
    "df_cpg_pivot = single_cpg_agg.pivot(\n",
    "    index=\"CpG_Site_ID\",\n",
    "    on=\"Tissue\",\n",
    "    values=\"CpG_Site_Coverage\"\n",
    ").fill_null(0)"
   ]
  },
  {
   "cell_type": "code",
   "execution_count": 32,
   "id": "a8f2a910-fff1-4b3e-a6fd-2af58fd148a8",
   "metadata": {},
   "outputs": [
    {
     "data": {
      "text/html": [
       "<div><style>\n",
       ".dataframe > thead > tr,\n",
       ".dataframe > tbody > tr {\n",
       "  text-align: right;\n",
       "  white-space: pre-wrap;\n",
       "}\n",
       "</style>\n",
       "<small>shape: (5, 3)</small><table border=\"1\" class=\"dataframe\"><thead><tr><th>CpG_Site_ID</th><th>cfDNA_VRF</th><th>Islet_VRF</th></tr><tr><td>str</td><td>f64</td><td>f64</td></tr></thead><tbody><tr><td>&quot;f_10224_0&quot;</td><td>0.008518</td><td>0.009739</td></tr><tr><td>&quot;f_10256_1&quot;</td><td>0.000472</td><td>0.000939</td></tr><tr><td>&quot;r_10558_0&quot;</td><td>0.000204</td><td>0.0002</td></tr><tr><td>&quot;r_10162_1&quot;</td><td>0.000003</td><td>0.000007</td></tr><tr><td>&quot;f_13938_0&quot;</td><td>0.000409</td><td>0.000214</td></tr></tbody></table></div>"
      ],
      "text/plain": [
       "shape: (5, 3)\n",
       "┌─────────────┬───────────┬───────────┐\n",
       "│ CpG_Site_ID ┆ cfDNA_VRF ┆ Islet_VRF │\n",
       "│ ---         ┆ ---       ┆ ---       │\n",
       "│ str         ┆ f64       ┆ f64       │\n",
       "╞═════════════╪═══════════╪═══════════╡\n",
       "│ f_10224_0   ┆ 0.008518  ┆ 0.009739  │\n",
       "│ f_10256_1   ┆ 0.000472  ┆ 0.000939  │\n",
       "│ r_10558_0   ┆ 0.000204  ┆ 0.0002    │\n",
       "│ r_10162_1   ┆ 0.000003  ┆ 0.000007  │\n",
       "│ f_13938_0   ┆ 0.000409  ┆ 0.000214  │\n",
       "└─────────────┴───────────┴───────────┘"
      ]
     },
     "execution_count": 32,
     "metadata": {},
     "output_type": "execute_result"
    }
   ],
   "source": [
    "# Calculate VRF for individual CpG sites\n",
    "# Join with total tissue coverage to normalize coverage and calculate VRF\n",
    "tissue_totals = single_cpg_agg.group_by(\"Tissue\").agg(pl.col(\"CpG_Site_Coverage\").sum().alias(\"total_coverage\"))\n",
    "# t1_total = tissue_totals.filter(pl.col(\"Tissue\") == \"Islet\").select(\"total_coverage\").to_numpy()[0][0]\n",
    "# t2_total = tissue_totals.filter(pl.col(\"Tissue\") == \"cfDNA\").select(\"total_coverage\").to_numpy()[0][0]\n",
    "\n",
    "# # Apply Fisher's exact test for single CpG sites\n",
    "# results_single = []\n",
    "\n",
    "# for row in df_cpg_pivot.iter_rows():\n",
    "#     cpg_id = row[0]\n",
    "#     row_data = dict(zip(df_cpg_pivot.columns[1:], row[1:]))\n",
    "#     counts_t1, counts_t2, odds, pval = compute_fisher(row_data, t1_total, t2_total)\n",
    "#     results_single.append({\n",
    "#         \"CpG_Site_ID\": cpg_id,\n",
    "#         \"site_counts_T1\": counts_t1,\n",
    "#         \"site_counts_T2\": counts_t2,\n",
    "#         \"site_odds_ratio\": odds,\n",
    "#         \"site_p_value\": pval\n",
    "#     })\n",
    "\n",
    "# single_site_results = pl.DataFrame(results_single)\n",
    "\n",
    "single_cpg_vrf = single_cpg_agg.join(\n",
    "    tissue_totals.rename({\"total_coverage\": \"Tissue_Total_Coverage\"}),\n",
    "    on=\"Tissue\",\n",
    "    how=\"left\"\n",
    ").with_columns(\n",
    "    (pl.col(\"CpG_Site_Coverage\") / pl.col(\"Tissue_Total_Coverage\")).alias(\"CpG_Site_VRF\")\n",
    ")\n",
    "\n",
    "df_cpg_vrf = single_cpg_vrf.pivot(index='CpG_Site_ID', on='Tissue', values='CpG_Site_VRF')\n",
    "rename_columns = {col: col + \"_VRF\" for col in df_cpg_vrf.columns if col != \"CpG_Site_ID\"}\n",
    "df_cpg_vrf = df_cpg_vrf.rename(rename_columns)\n",
    "df_cpg_vrf.head()"
   ]
  },
  {
   "cell_type": "code",
   "execution_count": 33,
   "id": "17bb3b20-b28d-4a9b-ab1c-8ea79e2b5af0",
   "metadata": {},
   "outputs": [
    {
     "data": {
      "text/html": [
       "<div><style>\n",
       ".dataframe > thead > tr,\n",
       ".dataframe > tbody > tr {\n",
       "  text-align: right;\n",
       "  white-space: pre-wrap;\n",
       "}\n",
       "</style>\n",
       "<small>shape: (5, 3)</small><table border=\"1\" class=\"dataframe\"><thead><tr><th>CpG_Site_ID</th><th>cfDNA_Individual_VRF</th><th>Islet_Individual_VRF</th></tr><tr><td>str</td><td>f64</td><td>f64</td></tr></thead><tbody><tr><td>&quot;f_10224_0&quot;</td><td>0.008518</td><td>0.009739</td></tr><tr><td>&quot;f_10256_1&quot;</td><td>0.000472</td><td>0.000939</td></tr><tr><td>&quot;r_10558_0&quot;</td><td>0.000204</td><td>0.0002</td></tr><tr><td>&quot;r_10162_1&quot;</td><td>0.000003</td><td>0.000007</td></tr><tr><td>&quot;f_13938_0&quot;</td><td>0.000409</td><td>0.000214</td></tr></tbody></table></div>"
      ],
      "text/plain": [
       "shape: (5, 3)\n",
       "┌─────────────┬──────────────────────┬──────────────────────┐\n",
       "│ CpG_Site_ID ┆ cfDNA_Individual_VRF ┆ Islet_Individual_VRF │\n",
       "│ ---         ┆ ---                  ┆ ---                  │\n",
       "│ str         ┆ f64                  ┆ f64                  │\n",
       "╞═════════════╪══════════════════════╪══════════════════════╡\n",
       "│ f_10224_0   ┆ 0.008518             ┆ 0.009739             │\n",
       "│ f_10256_1   ┆ 0.000472             ┆ 0.000939             │\n",
       "│ r_10558_0   ┆ 0.000204             ┆ 0.0002               │\n",
       "│ r_10162_1   ┆ 0.000003             ┆ 0.000007             │\n",
       "│ f_13938_0   ┆ 0.000409             ┆ 0.000214             │\n",
       "└─────────────┴──────────────────────┴──────────────────────┘"
      ]
     },
     "execution_count": 33,
     "metadata": {},
     "output_type": "execute_result"
    }
   ],
   "source": [
    "df_cpg_vrf = single_cpg_vrf.pivot(index='CpG_Site_ID', on='Tissue', values='CpG_Site_VRF')\n",
    "rename_columns = {col: col + \"_Individual_VRF\" for col in df_cpg_vrf.columns if col != \"CpG_Site_ID\"}\n",
    "df_cpg_vrf = df_cpg_vrf.rename(rename_columns)\n",
    "df_cpg_vrf.head()"
   ]
  },
  {
   "cell_type": "code",
   "execution_count": 34,
   "id": "55b65f9b-621f-4dc0-bbae-2a381d33ab8a",
   "metadata": {},
   "outputs": [],
   "source": [
    "filtered_cpg = single_cpg_df.filter(pl.col(\"PMP_ID\").is_in(top_10_pmps))\n",
    "selected_columns = [\"PMP_ID\", \"CpG_Site_ID\"]\n",
    "filtered_cpg = filtered_cpg.select(selected_columns)\n",
    "filtered_cpg = filtered_cpg.unique()\n",
    "filtered_cpg = filtered_cpg.join(pl.DataFrame(top_10), on=\"PMP_ID\", how=\"left\")\n",
    "filtered_cpg = filtered_cpg.join(df_cpg_vrf, on=\"CpG_Site_ID\", how=\"left\")\n",
    "filtered_cpg = filtered_cpg.to_pandas()\n",
    "filtered_cpg.to_csv(f'{RESULTS_FOLDER}/pmp_vs_individual_site_comparison.csv')"
   ]
  },
  {
   "cell_type": "code",
   "execution_count": 35,
   "id": "a9c7289f-d13b-4ed4-9d05-dcf9ff0a2655",
   "metadata": {},
   "outputs": [
    {
     "name": "stderr",
     "output_type": "stream",
     "text": [
      "/var/folders/v3/mjtzd81975xfhjl0809f2c4r0000gn/T/ipykernel_34730/3161168115.py:4: UserWarning: Ignoring `palette` because no `hue` variable has been assigned.\n",
      "  sns.scatterplot(\n"
     ]
    },
    {
     "data": {
      "text/plain": [
       "Text(0, 0.5, 'Single CpG Site VRF (cfDNA)')"
      ]
     },
     "execution_count": 35,
     "metadata": {},
     "output_type": "execute_result"
    },
    {
     "data": {
      "image/png": "[encoded data removed]",
      "text/plain": [
       "<Figure size 720x432 with 1 Axes>"
      ]
     },
     "metadata": {},
     "output_type": "display_data"
    }
   ],
   "source": [
    "# VRF seems to be higher for individual CpG sites\n",
    "# This is not enough to validate the hypothesis in the assigned task\n",
    "plt.figure(figsize=(10, 6))\n",
    "sns.scatterplot(\n",
    "    data=filtered_cpg, x=\"cfDNA_VRF\", y=\"cfDNA_Individual_VRF\", palette=\"viridis\"\n",
    ")\n",
    "plt.title(\"VRF Comparison: PMP vs. Single CpG Sites\")\n",
    "plt.xlabel(\"PMP VRF (cfDNA)\")\n",
    "plt.ylabel(\"Single CpG Site VRF (cfDNA)\")"
   ]
  },
  {
   "cell_type": "code",
   "execution_count": 36,
   "id": "e2af4531-3127-4c58-879a-9865aa8e2ee4",
   "metadata": {},
   "outputs": [
    {
     "name": "stderr",
     "output_type": "stream",
     "text": [
      "/var/folders/v3/mjtzd81975xfhjl0809f2c4r0000gn/T/ipykernel_34730/2239449154.py:2: UserWarning: Ignoring `palette` because no `hue` variable has been assigned.\n",
      "  sns.scatterplot(\n"
     ]
    },
    {
     "data": {
      "text/plain": [
       "Text(0, 0.5, 'Single CpG Site VRF (Islet)')"
      ]
     },
     "execution_count": 36,
     "metadata": {},
     "output_type": "execute_result"
    },
    {
     "data": {
      "image/png": "[encoded data removed]",
      "text/plain": [
       "<Figure size 720x432 with 1 Axes>"
      ]
     },
     "metadata": {},
     "output_type": "display_data"
    }
   ],
   "source": [
    "plt.figure(figsize=(10, 6))\n",
    "sns.scatterplot(\n",
    "    data=filtered_cpg, x=\"Islet_VRF\", y=\"Islet_Individual_VRF\", palette=\"viridis\"\n",
    ")\n",
    "plt.title(\"VRF Comparison: PMP vs. Single CpG Sites\")\n",
    "plt.xlabel(\"PMP VRF (Islet)\")\n",
    "plt.ylabel(\"Single CpG Site VRF (Islet)\")"
   ]
  },
  {
   "cell_type": "code",
   "execution_count": null,
   "id": "d8311943-7425-436e-b37d-fdae4e828ed5",
   "metadata": {},
   "outputs": [],
   "source": []
  },
  {
   "cell_type": "code",
   "execution_count": null,
   "id": "2600cad0-2554-46e9-8a0d-7273f1956024",
   "metadata": {},
   "outputs": [],
   "source": []
  },
  {
   "cell_type": "code",
   "execution_count": null,
   "id": "c9ebe1ca-3d56-4c2f-975d-27daf6226f20",
   "metadata": {},
   "outputs": [],
   "source": []
  }
 ],
 "metadata": {
  "kernelspec": {
   "display_name": "Python 3 (ipykernel)",
   "language": "python",
   "name": "python3"
  },
  "language_info": {
   "codemirror_mode": {
    "name": "ipython",
    "version": 3
   },
   "file_extension": ".py",
   "mimetype": "text/x-python",
   "name": "python",
   "nbconvert_exporter": "python",
   "pygments_lexer": "ipython3",
   "version": "3.8.1"
  }
 },
 "nbformat": 4,
 "nbformat_minor": 5
}
