{
 "cells": [
  {
   "cell_type": "code",
   "execution_count": null,
   "id": "39e1a802-66e0-41da-b5b1-33e9e69a80ce",
   "metadata": {},
   "outputs": [],
   "source": [
    "import pandas as pd\n",
    "import polars as pl\n",
    "import numpy as np\n",
    "import seaborn as sns\n",
    "import matplotlib.pyplot as plt\n",
    "from scipy.stats import fisher_exact\n",
    "\n",
    "from config import DATA_FOLDER, RESULTS_FOLDER, METHYLATION_CSV_FILE, NUMBER_OF_CPG_SITES\n",
    "from utils import get_patterns"
   ]
  },
  {
   "cell_type": "code",
   "execution_count": 2,
   "id": "37a8a422-b72a-41f7-9881-28b9424e3592",
   "metadata": {},
   "outputs": [],
   "source": [
    "%matplotlib inline"
   ]
  },
  {
   "cell_type": "code",
   "execution_count": 3,
   "id": "9db1178b-95c4-4763-a941-a64da75bc276",
   "metadata": {},
   "outputs": [
    {
     "data": {
      "text/plain": [
       "['`000', '`001', '`010', '`011', '`100', '`101', '`110', '`111']"
      ]
     },
     "execution_count": 3,
     "metadata": {},
     "output_type": "execute_result"
    }
   ],
   "source": [
    "patterns = get_patterns(NUMBER_OF_CPG_SITES)\n",
    "patterns"
   ]
  },
  {
   "cell_type": "markdown",
   "id": "91039105-1b57-4447-8f25-9bff71160166",
   "metadata": {},
   "source": [
    "# Get data"
   ]
  },
  {
   "cell_type": "code",
   "execution_count": 4,
   "id": "705db6ea-5a62-477f-be52-96147f8a92f6",
   "metadata": {},
   "outputs": [],
   "source": [
    "# This is a big file\n",
    "# Reading the file can be faster if it is saved as a pickle/parquet file\n",
    "df = pd.read_csv(f'{DATA_FOLDER}/{METHYLATION_CSV_FILE}')"
   ]
  },
  {
   "cell_type": "markdown",
   "id": "f85f4308-5409-4008-9a7d-93da1a357412",
   "metadata": {},
   "source": [
    "# Look at the data"
   ]
  },
  {
   "cell_type": "code",
   "execution_count": 5,
   "id": "3fa51189-15ca-483f-9806-62fb25cf1fda",
   "metadata": {},
   "outputs": [
    {
     "data": {
      "text/html": [
       "<div>\n",
       "<style scoped>\n",
       "    .dataframe tbody tr th:only-of-type {\n",
       "        vertical-align: middle;\n",
       "    }\n",
       "\n",
       "    .dataframe tbody tr th {\n",
       "        vertical-align: top;\n",
       "    }\n",
       "\n",
       "    .dataframe thead th {\n",
       "        text-align: right;\n",
       "    }\n",
       "</style>\n",
       "<table border=\"1\" class=\"dataframe\">\n",
       "  <thead>\n",
       "    <tr style=\"text-align: right;\">\n",
       "      <th></th>\n",
       "      <th>strand</th>\n",
       "      <th>CpG_Coordinates</th>\n",
       "      <th>`000</th>\n",
       "      <th>`001</th>\n",
       "      <th>`010</th>\n",
       "      <th>`011</th>\n",
       "      <th>`100</th>\n",
       "      <th>`101</th>\n",
       "      <th>`110</th>\n",
       "      <th>`111</th>\n",
       "      <th>Sample_ID</th>\n",
       "      <th>Replicate</th>\n",
       "      <th>Tissue</th>\n",
       "    </tr>\n",
       "  </thead>\n",
       "  <tbody>\n",
       "    <tr>\n",
       "      <th>0</th>\n",
       "      <td>r</td>\n",
       "      <td>10035:10044:10046</td>\n",
       "      <td>1077</td>\n",
       "      <td>9</td>\n",
       "      <td>0</td>\n",
       "      <td>0</td>\n",
       "      <td>0</td>\n",
       "      <td>0</td>\n",
       "      <td>0</td>\n",
       "      <td>4</td>\n",
       "      <td>1</td>\n",
       "      <td>Rep2</td>\n",
       "      <td>cfDNA</td>\n",
       "    </tr>\n",
       "    <tr>\n",
       "      <th>1</th>\n",
       "      <td>r</td>\n",
       "      <td>10035:10044:10053</td>\n",
       "      <td>1086</td>\n",
       "      <td>0</td>\n",
       "      <td>0</td>\n",
       "      <td>0</td>\n",
       "      <td>0</td>\n",
       "      <td>0</td>\n",
       "      <td>0</td>\n",
       "      <td>4</td>\n",
       "      <td>1</td>\n",
       "      <td>Rep2</td>\n",
       "      <td>cfDNA</td>\n",
       "    </tr>\n",
       "    <tr>\n",
       "      <th>2</th>\n",
       "      <td>r</td>\n",
       "      <td>10035:10044:10058</td>\n",
       "      <td>1069</td>\n",
       "      <td>17</td>\n",
       "      <td>0</td>\n",
       "      <td>0</td>\n",
       "      <td>0</td>\n",
       "      <td>0</td>\n",
       "      <td>0</td>\n",
       "      <td>4</td>\n",
       "      <td>1</td>\n",
       "      <td>Rep2</td>\n",
       "      <td>cfDNA</td>\n",
       "    </tr>\n",
       "    <tr>\n",
       "      <th>3</th>\n",
       "      <td>r</td>\n",
       "      <td>10035:10044:10071</td>\n",
       "      <td>1072</td>\n",
       "      <td>14</td>\n",
       "      <td>0</td>\n",
       "      <td>0</td>\n",
       "      <td>0</td>\n",
       "      <td>0</td>\n",
       "      <td>0</td>\n",
       "      <td>4</td>\n",
       "      <td>1</td>\n",
       "      <td>Rep2</td>\n",
       "      <td>cfDNA</td>\n",
       "    </tr>\n",
       "    <tr>\n",
       "      <th>4</th>\n",
       "      <td>r</td>\n",
       "      <td>10035:10044:10075</td>\n",
       "      <td>1086</td>\n",
       "      <td>0</td>\n",
       "      <td>0</td>\n",
       "      <td>0</td>\n",
       "      <td>0</td>\n",
       "      <td>0</td>\n",
       "      <td>0</td>\n",
       "      <td>4</td>\n",
       "      <td>1</td>\n",
       "      <td>Rep2</td>\n",
       "      <td>cfDNA</td>\n",
       "    </tr>\n",
       "  </tbody>\n",
       "</table>\n",
       "</div>"
      ],
      "text/plain": [
       "  strand    CpG_Coordinates  `000  `001  `010  `011  `100  `101  `110  `111  \\\n",
       "0      r  10035:10044:10046  1077     9     0     0     0     0     0     4   \n",
       "1      r  10035:10044:10053  1086     0     0     0     0     0     0     4   \n",
       "2      r  10035:10044:10058  1069    17     0     0     0     0     0     4   \n",
       "3      r  10035:10044:10071  1072    14     0     0     0     0     0     4   \n",
       "4      r  10035:10044:10075  1086     0     0     0     0     0     0     4   \n",
       "\n",
       "   Sample_ID Replicate Tissue  \n",
       "0          1      Rep2  cfDNA  \n",
       "1          1      Rep2  cfDNA  \n",
       "2          1      Rep2  cfDNA  \n",
       "3          1      Rep2  cfDNA  \n",
       "4          1      Rep2  cfDNA  "
      ]
     },
     "execution_count": 5,
     "metadata": {},
     "output_type": "execute_result"
    }
   ],
   "source": [
    "df.head()"
   ]
  },
  {
   "cell_type": "code",
   "execution_count": 6,
   "id": "cf531690-5b26-471c-96f9-fa320cea494c",
   "metadata": {},
   "outputs": [
    {
     "name": "stdout",
     "output_type": "stream",
     "text": [
      "<class 'pandas.core.frame.DataFrame'>\n",
      "RangeIndex: 15392183 entries, 0 to 15392182\n",
      "Data columns (total 13 columns):\n",
      " #   Column           Dtype \n",
      "---  ------           ----- \n",
      " 0   strand           object\n",
      " 1   CpG_Coordinates  object\n",
      " 2   `000             int64 \n",
      " 3   `001             int64 \n",
      " 4   `010             int64 \n",
      " 5   `011             int64 \n",
      " 6   `100             int64 \n",
      " 7   `101             int64 \n",
      " 8   `110             int64 \n",
      " 9   `111             int64 \n",
      " 10  Sample_ID        int64 \n",
      " 11  Replicate        object\n",
      " 12  Tissue           object\n",
      "dtypes: int64(9), object(4)\n",
      "memory usage: 1.5+ GB\n"
     ]
    }
   ],
   "source": [
    "df.info()"
   ]
  },
  {
   "cell_type": "code",
   "execution_count": 7,
   "id": "d70c6488-39ca-42ba-8060-97378a9dcdd8",
   "metadata": {},
   "outputs": [
    {
     "name": "stdout",
     "output_type": "stream",
     "text": [
      "['r' 'f']\n",
      "['Rep2' 'Rep1']\n",
      "['cfDNA' 'Islet']\n"
     ]
    }
   ],
   "source": [
    "# There are 2 technical replicates and 2 tissue types\n",
    "for x in ['strand', 'Replicate', 'Tissue']:\n",
    "    print(df[x].unique())"
   ]
  },
  {
   "cell_type": "code",
   "execution_count": 8,
   "id": "0f4d4f57-81b5-4c5c-83a9-9f77800bbe3f",
   "metadata": {},
   "outputs": [
    {
     "data": {
      "text/plain": [
       "strand  Tissue  Replicate\n",
       "f       Islet   Rep1         32\n",
       "        cfDNA   Rep1         47\n",
       "                Rep2         48\n",
       "r       Islet   Rep1         32\n",
       "        cfDNA   Rep1         47\n",
       "                Rep2         48\n",
       "Name: Sample_ID, dtype: int64"
      ]
     },
     "execution_count": 8,
     "metadata": {},
     "output_type": "execute_result"
    }
   ],
   "source": [
    "# We don't have 2 technical replicates for Islet tissue type\n",
    "# We have more samples of circulating free DNA\n",
    "df.groupby(['strand', 'Tissue', 'Replicate'])['Sample_ID'].nunique()"
   ]
  },
  {
   "cell_type": "code",
   "execution_count": 9,
   "id": "92785b03-8776-487f-affc-2b644d2ec41e",
   "metadata": {},
   "outputs": [
    {
     "name": "stdout",
     "output_type": "stream",
     "text": [
      "1\n",
      "80\n",
      "80\n"
     ]
    }
   ],
   "source": [
    "# There are 80 samples\n",
    "print(df['Sample_ID'].min())\n",
    "print(df['Sample_ID'].max())\n",
    "print(df['Sample_ID'].nunique())"
   ]
  },
  {
   "cell_type": "markdown",
   "id": "deb4195d-509a-43bb-b43b-a0a3af053577",
   "metadata": {},
   "source": [
    "# Coverage analysis"
   ]
  },
  {
   "cell_type": "code",
   "execution_count": 10,
   "id": "472ff9ee-5d8a-4402-ac07-39060a5dbb78",
   "metadata": {},
   "outputs": [],
   "source": [
    "# Calculate the median and coefficient of variation (CV) for single CpG coverage in each tissue\n",
    "\n",
    "# Coverage analysis can help us evaluate data quality\n",
    "\n",
    "# The CpG_Coordinates are not split below, so this is not truly \"single CpG coverage\"\n",
    "# I have treated the phased triple as a single epigenetic locus\n",
    "\n",
    "# A common approach is to sum across all methylation patterns\n",
    "# to get total coverage at that phased triple locus\n",
    "\n",
    "df['Total_Coverage'] = df[patterns].sum(axis=1)\n",
    "df_locus = df.groupby(['Tissue', 'CpG_Coordinates'])['Total_Coverage'].sum().reset_index()\n",
    "df_strand = df.groupby(['Tissue', 'strand', 'CpG_Coordinates'])['Total_Coverage'].sum().reset_index()\n",
    "df_rep = df.groupby(['Tissue', 'Replicate', 'CpG_Coordinates'])['Total_Coverage'].sum().reset_index()"
   ]
  },
  {
   "cell_type": "code",
   "execution_count": 11,
   "id": "3c131256-bb1b-41ec-9a79-0f8768f1530b",
   "metadata": {},
   "outputs": [
    {
     "data": {
      "text/html": [
       "<div>\n",
       "<style scoped>\n",
       "    .dataframe tbody tr th:only-of-type {\n",
       "        vertical-align: middle;\n",
       "    }\n",
       "\n",
       "    .dataframe tbody tr th {\n",
       "        vertical-align: top;\n",
       "    }\n",
       "\n",
       "    .dataframe thead th {\n",
       "        text-align: right;\n",
       "    }\n",
       "</style>\n",
       "<table border=\"1\" class=\"dataframe\">\n",
       "  <thead>\n",
       "    <tr style=\"text-align: right;\">\n",
       "      <th></th>\n",
       "      <th>Tissue</th>\n",
       "      <th>median</th>\n",
       "      <th>mean</th>\n",
       "      <th>std</th>\n",
       "      <th>CV</th>\n",
       "    </tr>\n",
       "  </thead>\n",
       "  <tbody>\n",
       "    <tr>\n",
       "      <th>0</th>\n",
       "      <td>Islet</td>\n",
       "      <td>4762.0</td>\n",
       "      <td>8534.123892</td>\n",
       "      <td>9733.194154</td>\n",
       "      <td>1.140503</td>\n",
       "    </tr>\n",
       "    <tr>\n",
       "      <th>1</th>\n",
       "      <td>cfDNA</td>\n",
       "      <td>90208.5</td>\n",
       "      <td>178228.548366</td>\n",
       "      <td>222046.851894</td>\n",
       "      <td>1.245855</td>\n",
       "    </tr>\n",
       "  </tbody>\n",
       "</table>\n",
       "</div>"
      ],
      "text/plain": [
       "  Tissue   median           mean            std        CV\n",
       "0  Islet   4762.0    8534.123892    9733.194154  1.140503\n",
       "1  cfDNA  90208.5  178228.548366  222046.851894  1.245855"
      ]
     },
     "execution_count": 11,
     "metadata": {},
     "output_type": "execute_result"
    }
   ],
   "source": [
    "# The mean values are higher than median\n",
    "# The distribution is skewed (clearly visible in boxplots below)\n",
    "\n",
    "stats = df_locus.groupby(['Tissue'])['Total_Coverage'].agg(['median', 'mean', 'std']).reset_index()\n",
    "stats['CV'] = stats['std'] / stats['mean']\n",
    "stats"
   ]
  },
  {
   "cell_type": "code",
   "execution_count": 12,
   "id": "6c81aba9-8c69-4207-a76d-d5e965c979ee",
   "metadata": {},
   "outputs": [
    {
     "data": {
      "image/png": "[encoded data removed]",
      "text/plain": [
       "<Figure size 576x432 with 1 Axes>"
      ]
     },
     "metadata": {},
     "output_type": "display_data"
    }
   ],
   "source": [
    "# There seem to be a lot of outliers\n",
    "sns.set(style='whitegrid')\n",
    "plt.figure(figsize=(8,6))\n",
    "sns.boxplot(x='Tissue', y='Total_Coverage', data=df_locus)\n",
    "plt.title(\"Distribution of total coverage by Tissue\")\n",
    "plt.ylabel(\"Coverage\")\n",
    "plt.xlabel(\"Tissue\")\n",
    "plt.tight_layout()\n",
    "plt.savefig(f'{RESULTS_FOLDER}/coverage_stats_tissue.svg')\n",
    "plt.show()"
   ]
  },
  {
   "cell_type": "markdown",
   "id": "1ce08061-7527-46f4-baf5-192cc1c79b63",
   "metadata": {},
   "source": [
    "## Coverage stats by Tissue and Strand"
   ]
  },
  {
   "cell_type": "code",
   "execution_count": 13,
   "id": "9318e408-a724-46e2-b6f0-9f25651eee40",
   "metadata": {},
   "outputs": [
    {
     "data": {
      "text/html": [
       "<div>\n",
       "<style scoped>\n",
       "    .dataframe tbody tr th:only-of-type {\n",
       "        vertical-align: middle;\n",
       "    }\n",
       "\n",
       "    .dataframe tbody tr th {\n",
       "        vertical-align: top;\n",
       "    }\n",
       "\n",
       "    .dataframe thead th {\n",
       "        text-align: right;\n",
       "    }\n",
       "</style>\n",
       "<table border=\"1\" class=\"dataframe\">\n",
       "  <thead>\n",
       "    <tr style=\"text-align: right;\">\n",
       "      <th></th>\n",
       "      <th>Tissue</th>\n",
       "      <th>strand</th>\n",
       "      <th>mean</th>\n",
       "      <th>median</th>\n",
       "      <th>std</th>\n",
       "      <th>CV</th>\n",
       "    </tr>\n",
       "  </thead>\n",
       "  <tbody>\n",
       "    <tr>\n",
       "      <th>0</th>\n",
       "      <td>Islet</td>\n",
       "      <td>f</td>\n",
       "      <td>4911.560906</td>\n",
       "      <td>2920.5</td>\n",
       "      <td>5521.360744</td>\n",
       "      <td>1.124156</td>\n",
       "    </tr>\n",
       "    <tr>\n",
       "      <th>1</th>\n",
       "      <td>Islet</td>\n",
       "      <td>r</td>\n",
       "      <td>3861.656847</td>\n",
       "      <td>1799.0</td>\n",
       "      <td>4674.749670</td>\n",
       "      <td>1.210555</td>\n",
       "    </tr>\n",
       "    <tr>\n",
       "      <th>2</th>\n",
       "      <td>cfDNA</td>\n",
       "      <td>f</td>\n",
       "      <td>101495.106485</td>\n",
       "      <td>54521.0</td>\n",
       "      <td>122704.943440</td>\n",
       "      <td>1.208974</td>\n",
       "    </tr>\n",
       "    <tr>\n",
       "      <th>3</th>\n",
       "      <td>cfDNA</td>\n",
       "      <td>r</td>\n",
       "      <td>81457.929502</td>\n",
       "      <td>30721.5</td>\n",
       "      <td>110953.440426</td>\n",
       "      <td>1.362095</td>\n",
       "    </tr>\n",
       "  </tbody>\n",
       "</table>\n",
       "</div>"
      ],
      "text/plain": [
       "  Tissue strand           mean   median            std        CV\n",
       "0  Islet      f    4911.560906   2920.5    5521.360744  1.124156\n",
       "1  Islet      r    3861.656847   1799.0    4674.749670  1.210555\n",
       "2  cfDNA      f  101495.106485  54521.0  122704.943440  1.208974\n",
       "3  cfDNA      r   81457.929502  30721.5  110953.440426  1.362095"
      ]
     },
     "execution_count": 13,
     "metadata": {},
     "output_type": "execute_result"
    }
   ],
   "source": [
    "# The median values in forward strand are higher compared to reverse strand in both tissue types\n",
    "df_strand_stats = df_strand.groupby(['Tissue','strand'])['Total_Coverage'].agg(['mean','median','std']).reset_index()\n",
    "df_strand_stats['CV'] = df_strand_stats['std'] / df_strand_stats['mean']\n",
    "df_strand_stats "
   ]
  },
  {
   "cell_type": "code",
   "execution_count": 14,
   "id": "a0f480f4-1e52-4f68-b8dd-2fbd904ac006",
   "metadata": {},
   "outputs": [
    {
     "data": {
      "image/png": "[encoded data removed]",
      "text/plain": [
       "<Figure size 720x432 with 1 Axes>"
      ]
     },
     "metadata": {},
     "output_type": "display_data"
    }
   ],
   "source": [
    "plt.figure(figsize=(10,6))\n",
    "sns.boxplot(x='Tissue', y='Total_Coverage',hue='strand',data=df_strand)\n",
    "plt.title(\"Coverage by Tissue and Strand\")\n",
    "plt.xlabel(\"Tissue\")\n",
    "plt.ylabel(\"Total Coverage\")\n",
    "plt.legend(title=\"Strand\")\n",
    "plt.tight_layout()\n",
    "plt.savefig(f'{RESULTS_FOLDER}/coverage_stats_strand.svg')\n",
    "plt.show()"
   ]
  },
  {
   "cell_type": "markdown",
   "id": "3a6ad529-0ca9-4f49-a713-6d4b20045458",
   "metadata": {},
   "source": [
    "## Coverage stats by Tissue and Replicate"
   ]
  },
  {
   "cell_type": "code",
   "execution_count": 15,
   "id": "4f03c447-f61b-4f37-af5a-9f4be1dad370",
   "metadata": {},
   "outputs": [
    {
     "data": {
      "text/html": [
       "<div>\n",
       "<style scoped>\n",
       "    .dataframe tbody tr th:only-of-type {\n",
       "        vertical-align: middle;\n",
       "    }\n",
       "\n",
       "    .dataframe tbody tr th {\n",
       "        vertical-align: top;\n",
       "    }\n",
       "\n",
       "    .dataframe thead th {\n",
       "        text-align: right;\n",
       "    }\n",
       "</style>\n",
       "<table border=\"1\" class=\"dataframe\">\n",
       "  <thead>\n",
       "    <tr style=\"text-align: right;\">\n",
       "      <th></th>\n",
       "      <th>Tissue</th>\n",
       "      <th>Replicate</th>\n",
       "      <th>mean</th>\n",
       "      <th>median</th>\n",
       "      <th>std</th>\n",
       "      <th>CV</th>\n",
       "    </tr>\n",
       "  </thead>\n",
       "  <tbody>\n",
       "    <tr>\n",
       "      <th>0</th>\n",
       "      <td>Islet</td>\n",
       "      <td>Rep1</td>\n",
       "      <td>8534.123892</td>\n",
       "      <td>4762.0</td>\n",
       "      <td>9733.194154</td>\n",
       "      <td>1.140503</td>\n",
       "    </tr>\n",
       "    <tr>\n",
       "      <th>1</th>\n",
       "      <td>cfDNA</td>\n",
       "      <td>Rep1</td>\n",
       "      <td>79456.485655</td>\n",
       "      <td>40297.5</td>\n",
       "      <td>98926.656313</td>\n",
       "      <td>1.245042</td>\n",
       "    </tr>\n",
       "    <tr>\n",
       "      <th>2</th>\n",
       "      <td>cfDNA</td>\n",
       "      <td>Rep2</td>\n",
       "      <td>98808.192434</td>\n",
       "      <td>49968.5</td>\n",
       "      <td>123128.895556</td>\n",
       "      <td>1.246141</td>\n",
       "    </tr>\n",
       "  </tbody>\n",
       "</table>\n",
       "</div>"
      ],
      "text/plain": [
       "  Tissue Replicate          mean   median            std        CV\n",
       "0  Islet      Rep1   8534.123892   4762.0    9733.194154  1.140503\n",
       "1  cfDNA      Rep1  79456.485655  40297.5   98926.656313  1.245042\n",
       "2  cfDNA      Rep2  98808.192434  49968.5  123128.895556  1.246141"
      ]
     },
     "execution_count": 15,
     "metadata": {},
     "output_type": "execute_result"
    }
   ],
   "source": [
    "# In cfDNA, replicate 2 has higher median compared to replicate 1\n",
    "# But the variation in cfDNA coverage within each replicate is similar\n",
    "# It might be worth validating the wet lab protocols used in both replicates\n",
    "\n",
    "df_rep_stats = df_rep.groupby(['Tissue','Replicate'])['Total_Coverage'].agg(['mean','median','std']).reset_index()\n",
    "df_rep_stats['CV'] = df_rep_stats['std'] / df_rep_stats['mean']\n",
    "df_rep_stats"
   ]
  },
  {
   "cell_type": "code",
   "execution_count": 16,
   "id": "5f9521a1-b2f6-4af1-b684-03af2478d946",
   "metadata": {},
   "outputs": [
    {
     "data": {
      "image/png": "[encoded data removed]",
      "text/plain": [
       "<Figure size 720x432 with 1 Axes>"
      ]
     },
     "metadata": {},
     "output_type": "display_data"
    }
   ],
   "source": [
    "plt.figure(figsize=(10,6))\n",
    "sns.boxplot(x='Tissue', y='Total_Coverage', hue='Replicate', data=df_rep)\n",
    "plt.title(\"Coverage by Tissue and Replicate\")\n",
    "plt.xlabel(\"Tissue\")\n",
    "plt.ylabel(\"Total Coverage\")\n",
    "plt.legend(title=\"Replicate\")\n",
    "plt.tight_layout()\n",
    "plt.savefig(f'{RESULTS_FOLDER}/coverage_stats_replicate.svg')\n",
    "plt.show()"
   ]
  },
  {
   "cell_type": "markdown",
   "id": "952f6496-325f-4221-bfcc-9685f086aca7",
   "metadata": {},
   "source": [
    "# Biomarker identification"
   ]
  },
  {
   "cell_type": "raw",
   "id": "eceea8c8-36f7-4615-8d63-93045d63139a",
   "metadata": {},
   "source": [
    "# Identify PMPs with high specificity for tissue differentiation, \n",
    "# minimizing false positives for Tissue #1 while allowing some false negatives\n",
    "\n",
    "# I am assuming tissue 1 is Islet and we want to minimize false positives in this\n",
    "# False positive -> mistaking tissue 1 to be tissue 2 when it is not tissue 2\n",
    "# And that the goal is to find patterns enriched in tissue 2 (cfDNA)\n",
    "\n",
    "# Null hypothesis -> tissue 2 is not more likely to have this PMP than tissue 1\n",
    "# Alternative -> tissue 2 is more likely to have this PMP than tissue 1\n",
    "\n",
    "# We can use Fisher's exact test to determine whether 2 categorical variables are significantly associated\n",
    "\n",
    "# This operation takes time, so we save the data to avoid running this again\n",
    "# To speed things up, we need to use polars instead of pandas\n",
    "df_polars = pl.from_pandas(df)\n",
    "\n",
    "df_melt_polars = df_polars.unpivot(\n",
    "    index=[\"strand\", \"CpG_Coordinates\", \"Sample_ID\", \"Replicate\", \"Tissue\"], \n",
    "    on=patterns,\n",
    "    variable_name = \"pattern\",\n",
    "    value_name = \"coverage\"\n",
    ")\n",
    "\n",
    "# I am not ignoring strand information here\n",
    "# But would it make sense to ignore it?\n",
    "df_melt_polars = df_melt_polars.with_columns(\n",
    "    (pl.col(\"strand\") + \"_\" + pl.col(\"CpG_Coordinates\") + \"_\" + pl.col(\"pattern\")).alias(\"PMP_ID\")\n",
    ")\n",
    "\n",
    "# Save the result as a pickle file\n",
    "df_melt_polars.write_parquet(f'{RESULTS_FOLDER}/methylation_data.parquet')"
   ]
  },
  {
   "cell_type": "code",
   "execution_count": 17,
   "id": "d0e4e888-2d0d-4767-8aa3-bb296fd9d012",
   "metadata": {},
   "outputs": [
    {
     "data": {
      "text/html": [
       "<div><style>\n",
       ".dataframe > thead > tr,\n",
       ".dataframe > tbody > tr {\n",
       "  text-align: right;\n",
       "  white-space: pre-wrap;\n",
       "}\n",
       "</style>\n",
       "<small>shape: (5, 8)</small><table border=\"1\" class=\"dataframe\"><thead><tr><th>strand</th><th>CpG_Coordinates</th><th>Sample_ID</th><th>Replicate</th><th>Tissue</th><th>pattern</th><th>coverage</th><th>PMP_ID</th></tr><tr><td>str</td><td>str</td><td>i64</td><td>str</td><td>str</td><td>str</td><td>i64</td><td>str</td></tr></thead><tbody><tr><td>&quot;r&quot;</td><td>&quot;10035:10044:10046&quot;</td><td>1</td><td>&quot;Rep2&quot;</td><td>&quot;cfDNA&quot;</td><td>&quot;`000&quot;</td><td>1077</td><td>&quot;r_10035:10044:10046_`000&quot;</td></tr><tr><td>&quot;r&quot;</td><td>&quot;10035:10044:10053&quot;</td><td>1</td><td>&quot;Rep2&quot;</td><td>&quot;cfDNA&quot;</td><td>&quot;`000&quot;</td><td>1086</td><td>&quot;r_10035:10044:10053_`000&quot;</td></tr><tr><td>&quot;r&quot;</td><td>&quot;10035:10044:10058&quot;</td><td>1</td><td>&quot;Rep2&quot;</td><td>&quot;cfDNA&quot;</td><td>&quot;`000&quot;</td><td>1069</td><td>&quot;r_10035:10044:10058_`000&quot;</td></tr><tr><td>&quot;r&quot;</td><td>&quot;10035:10044:10071&quot;</td><td>1</td><td>&quot;Rep2&quot;</td><td>&quot;cfDNA&quot;</td><td>&quot;`000&quot;</td><td>1072</td><td>&quot;r_10035:10044:10071_`000&quot;</td></tr><tr><td>&quot;r&quot;</td><td>&quot;10035:10044:10075&quot;</td><td>1</td><td>&quot;Rep2&quot;</td><td>&quot;cfDNA&quot;</td><td>&quot;`000&quot;</td><td>1086</td><td>&quot;r_10035:10044:10075_`000&quot;</td></tr></tbody></table></div>"
      ],
      "text/plain": [
       "shape: (5, 8)\n",
       "┌────────┬─────────────────┬───────────┬───────────┬────────┬─────────┬──────────┬─────────────────┐\n",
       "│ strand ┆ CpG_Coordinates ┆ Sample_ID ┆ Replicate ┆ Tissue ┆ pattern ┆ coverage ┆ PMP_ID          │\n",
       "│ ---    ┆ ---             ┆ ---       ┆ ---       ┆ ---    ┆ ---     ┆ ---      ┆ ---             │\n",
       "│ str    ┆ str             ┆ i64       ┆ str       ┆ str    ┆ str     ┆ i64      ┆ str             │\n",
       "╞════════╪═════════════════╪═══════════╪═══════════╪════════╪═════════╪══════════╪═════════════════╡\n",
       "│ r      ┆ 10035:10044:100 ┆ 1         ┆ Rep2      ┆ cfDNA  ┆ `000    ┆ 1077     ┆ r_10035:10044:1 │\n",
       "│        ┆ 46              ┆           ┆           ┆        ┆         ┆          ┆ 0046_`000       │\n",
       "│ r      ┆ 10035:10044:100 ┆ 1         ┆ Rep2      ┆ cfDNA  ┆ `000    ┆ 1086     ┆ r_10035:10044:1 │\n",
       "│        ┆ 53              ┆           ┆           ┆        ┆         ┆          ┆ 0053_`000       │\n",
       "│ r      ┆ 10035:10044:100 ┆ 1         ┆ Rep2      ┆ cfDNA  ┆ `000    ┆ 1069     ┆ r_10035:10044:1 │\n",
       "│        ┆ 58              ┆           ┆           ┆        ┆         ┆          ┆ 0058_`000       │\n",
       "│ r      ┆ 10035:10044:100 ┆ 1         ┆ Rep2      ┆ cfDNA  ┆ `000    ┆ 1072     ┆ r_10035:10044:1 │\n",
       "│        ┆ 71              ┆           ┆           ┆        ┆         ┆          ┆ 0071_`000       │\n",
       "│ r      ┆ 10035:10044:100 ┆ 1         ┆ Rep2      ┆ cfDNA  ┆ `000    ┆ 1086     ┆ r_10035:10044:1 │\n",
       "│        ┆ 75              ┆           ┆           ┆        ┆         ┆          ┆ 0075_`000       │\n",
       "└────────┴─────────────────┴───────────┴───────────┴────────┴─────────┴──────────┴─────────────────┘"
      ]
     },
     "execution_count": 17,
     "metadata": {},
     "output_type": "execute_result"
    }
   ],
   "source": [
    "df_melt_polars = pl.read_parquet(f'{RESULTS_FOLDER}/methylation_data.parquet')\n",
    "df_melt_polars.head()"
   ]
  },
  {
   "cell_type": "code",
   "execution_count": 18,
   "id": "4f94bfae-1fe7-4f50-96b4-ed68318f9f74",
   "metadata": {},
   "outputs": [],
   "source": [
    "df_pmp = df_melt_polars.group_by([\"Tissue\", \"PMP_ID\"]).agg(pl.col(\"coverage\").sum().alias(\"coverage\"))\n",
    "tissue_totals = df_pmp.group_by(\"Tissue\").agg(pl.col(\"coverage\").sum().alias(\"total_coverage\"))"
   ]
  },
  {
   "cell_type": "code",
   "execution_count": 19,
   "id": "295387d9-a08c-4501-8709-92f9220a032f",
   "metadata": {},
   "outputs": [],
   "source": [
    "def compute_fisher(row, t1_total, t2_total):\n",
    "    counts_t1 = row.get(\"Islet\", 0)\n",
    "    counts_t2 = row.get(\"cfDNA\", 0)\n",
    "    nonpmp_t1 = t1_total - counts_t1\n",
    "    nonpmp_t2 = t2_total - counts_t2\n",
    "    table = [[counts_t1, nonpmp_t1], \n",
    "             [counts_t2, nonpmp_t2]]\n",
    "    # alternative=\"less\" should minimise false positives\n",
    "    # 1st row in table should be reference/baseline population\n",
    "    odds, pval = fisher_exact(table, alternative=\"less\")\n",
    "    return counts_t1, counts_t2, odds, pval"
   ]
  },
  {
   "cell_type": "code",
   "execution_count": 20,
   "id": "111400ca-5a67-4e06-b76c-3d40f36c04a9",
   "metadata": {},
   "outputs": [],
   "source": [
    "df_pivot = df_pmp.pivot(index=\"PMP_ID\", on=\"Tissue\", values=\"coverage\").fill_null(0)\n",
    "t1_total = tissue_totals.filter(pl.col(\"Tissue\") == \"Islet\").select(\"total_coverage\").to_numpy()[0][0]\n",
    "t2_total = tissue_totals.filter(pl.col(\"Tissue\") == \"cfDNA\").select(\"total_coverage\").to_numpy()[0][0]\n",
    "\n",
    "results = []\n",
    "\n",
    "for row in df_pivot.iter_rows():\n",
    "    pmp_id = row[0] \n",
    "    row_data = dict(zip(df_pivot.columns[1:], row[1:]))\n",
    "    counts_t1, counts_t2, odds, pval = compute_fisher(row_data, t1_total, t2_total)\n",
    "    \n",
    "    results.append({\n",
    "        \"PMP_ID\": pmp_id,\n",
    "        \"counts_T1\": counts_t1,\n",
    "        \"counts_T2\": counts_t2,\n",
    "        \"odds_ratio\": odds,\n",
    "        \"p_value\": pval\n",
    "    })\n",
    "\n",
    "df_results = pl.DataFrame(results).sort(\"p_value\")"
   ]
  },
  {
   "cell_type": "code",
   "execution_count": 21,
   "id": "6fcfcb78-788a-4c7c-b660-206160c718b0",
   "metadata": {},
   "outputs": [
    {
     "data": {
      "text/html": [
       "<div>\n",
       "<style scoped>\n",
       "    .dataframe tbody tr th:only-of-type {\n",
       "        vertical-align: middle;\n",
       "    }\n",
       "\n",
       "    .dataframe tbody tr th {\n",
       "        vertical-align: top;\n",
       "    }\n",
       "\n",
       "    .dataframe thead th {\n",
       "        text-align: right;\n",
       "    }\n",
       "</style>\n",
       "<table border=\"1\" class=\"dataframe\">\n",
       "  <thead>\n",
       "    <tr style=\"text-align: right;\">\n",
       "      <th></th>\n",
       "      <th>PMP_ID</th>\n",
       "      <th>counts_T1</th>\n",
       "      <th>counts_T2</th>\n",
       "      <th>odds_ratio</th>\n",
       "      <th>p_value</th>\n",
       "    </tr>\n",
       "  </thead>\n",
       "  <tbody>\n",
       "    <tr>\n",
       "      <th>1129</th>\n",
       "      <td>f_10319:10335:10343_`000</td>\n",
       "      <td>23799</td>\n",
       "      <td>653531</td>\n",
       "      <td>0.766693</td>\n",
       "      <td>0.0</td>\n",
       "    </tr>\n",
       "    <tr>\n",
       "      <th>66</th>\n",
       "      <td>f_10319:10343:10363_`000</td>\n",
       "      <td>21459</td>\n",
       "      <td>595989</td>\n",
       "      <td>0.758054</td>\n",
       "      <td>0.0</td>\n",
       "    </tr>\n",
       "    <tr>\n",
       "      <th>9088</th>\n",
       "      <td>f_10294:10312:10343_`000</td>\n",
       "      <td>17244</td>\n",
       "      <td>480713</td>\n",
       "      <td>0.755235</td>\n",
       "      <td>0.0</td>\n",
       "    </tr>\n",
       "    <tr>\n",
       "      <th>4465</th>\n",
       "      <td>f_10319:10363:10372_`000</td>\n",
       "      <td>19445</td>\n",
       "      <td>544013</td>\n",
       "      <td>0.752538</td>\n",
       "      <td>0.0</td>\n",
       "    </tr>\n",
       "    <tr>\n",
       "      <th>8554</th>\n",
       "      <td>f_10343:10363:10372_`000</td>\n",
       "      <td>24825</td>\n",
       "      <td>699173</td>\n",
       "      <td>0.747537</td>\n",
       "      <td>0.0</td>\n",
       "    </tr>\n",
       "  </tbody>\n",
       "</table>\n",
       "</div>"
      ],
      "text/plain": [
       "                        PMP_ID  counts_T1  counts_T2  odds_ratio  p_value\n",
       "1129  f_10319:10335:10343_`000      23799     653531    0.766693      0.0\n",
       "66    f_10319:10343:10363_`000      21459     595989    0.758054      0.0\n",
       "9088  f_10294:10312:10343_`000      17244     480713    0.755235      0.0\n",
       "4465  f_10319:10363:10372_`000      19445     544013    0.752538      0.0\n",
       "8554  f_10343:10363:10372_`000      24825     699173    0.747537      0.0"
      ]
     },
     "execution_count": 21,
     "metadata": {},
     "output_type": "execute_result"
    }
   ],
   "source": [
    "# Ideally p_value should be low and odds_ratio should be high\n",
    "# p_value shows whether coverage differs beyond random chance\n",
    "# odds_ratio shows how big this difference is \n",
    "\n",
    "df_results = df_results.to_pandas()\n",
    "df_results = df_results.sort_values(by=['p_value', 'odds_ratio'], ascending=[True, False])\n",
    "df_results.head()"
   ]
  },
  {
   "cell_type": "code",
   "execution_count": 22,
   "id": "826fb9bc-18ec-4503-80c3-ff9186d8e35a",
   "metadata": {},
   "outputs": [
    {
     "data": {
      "text/html": [
       "<div><style>\n",
       ".dataframe > thead > tr,\n",
       ".dataframe > tbody > tr {\n",
       "  text-align: right;\n",
       "  white-space: pre-wrap;\n",
       "}\n",
       "</style>\n",
       "<small>shape: (5, 3)</small><table border=\"1\" class=\"dataframe\"><thead><tr><th>PMP_ID</th><th>cfDNA_VRF</th><th>Islet_VRF</th></tr><tr><td>str</td><td>f64</td><td>f64</td></tr></thead><tbody><tr><td>&quot;f_10071:10088:10146_`011&quot;</td><td>1.8709e-9</td><td>8.0572e-8</td></tr><tr><td>&quot;r_7563:7590:7595_`100&quot;</td><td>1.1906e-9</td><td>5.3715e-9</td></tr><tr><td>&quot;f_8378:8467:8512_`000&quot;</td><td>7.2286e-9</td><td>1.7905e-8</td></tr><tr><td>&quot;f_13378:13381:13507_`010&quot;</td><td>8.5043e-10</td><td>7.1619e-9</td></tr><tr><td>&quot;r_8573:8595:8658_`101&quot;</td><td>1.8709e-9</td><td>1.7905e-9</td></tr></tbody></table></div>"
      ],
      "text/plain": [
       "shape: (5, 3)\n",
       "┌──────────────────────────┬────────────┬───────────┐\n",
       "│ PMP_ID                   ┆ cfDNA_VRF  ┆ Islet_VRF │\n",
       "│ ---                      ┆ ---        ┆ ---       │\n",
       "│ str                      ┆ f64        ┆ f64       │\n",
       "╞══════════════════════════╪════════════╪═══════════╡\n",
       "│ f_10071:10088:10146_`011 ┆ 1.8709e-9  ┆ 8.0572e-8 │\n",
       "│ r_7563:7590:7595_`100    ┆ 1.1906e-9  ┆ 5.3715e-9 │\n",
       "│ f_8378:8467:8512_`000    ┆ 7.2286e-9  ┆ 1.7905e-8 │\n",
       "│ f_13378:13381:13507_`010 ┆ 8.5043e-10 ┆ 7.1619e-9 │\n",
       "│ r_8573:8595:8658_`101    ┆ 1.8709e-9  ┆ 1.7905e-9 │\n",
       "└──────────────────────────┴────────────┴───────────┘"
      ]
     },
     "execution_count": 22,
     "metadata": {},
     "output_type": "execute_result"
    }
   ],
   "source": [
    "# Calculate the mean variant read fraction (VRF) for each PMP in both tissues\n",
    "df_merged = df_pmp.join(tissue_totals, on='Tissue', how='left').with_columns(\n",
    "    (pl.col(\"coverage\") / pl.col(\"total_coverage\")).alias(\"VRF\")\n",
    ")\n",
    "df_vrf = df_merged.pivot(index='PMP_ID', on='Tissue', values='VRF')\n",
    "rename_columns = {col: col + \"_VRF\" for col in df_vrf.columns if col != \"PMP_ID\"}\n",
    "df_vrf = df_vrf.rename(rename_columns)\n",
    "df_vrf.head()"
   ]
  },
  {
   "cell_type": "code",
   "execution_count": 23,
   "id": "c665f15a-a3fd-4a94-a7f7-a0a9fc04d36d",
   "metadata": {},
   "outputs": [],
   "source": [
    "df_results_pl = pl.from_pandas(df_results)\n",
    "df_final = df_results_pl.join(df_vrf, on=\"PMP_ID\", how='left')\n",
    "df_final = df_final.to_pandas()"
   ]
  },
  {
   "cell_type": "code",
   "execution_count": 25,
   "id": "1cf1a09c-26e9-4f15-8e52-fa2fd0be80a5",
   "metadata": {},
   "outputs": [],
   "source": [
    "df_final = df_final.sort_values(by=['p_value', 'odds_ratio'], ascending=[True, False])\n",
    "df_final.to_pickle(f'{RESULTS_FOLDER}/biomarker_results.pickle')"
   ]
  },
  {
   "cell_type": "code",
   "execution_count": 27,
   "id": "0f215e9c-760b-4bc0-b291-23469f1d1360",
   "metadata": {},
   "outputs": [
    {
     "data": {
      "text/html": [
       "<div>\n",
       "<style scoped>\n",
       "    .dataframe tbody tr th:only-of-type {\n",
       "        vertical-align: middle;\n",
       "    }\n",
       "\n",
       "    .dataframe tbody tr th {\n",
       "        vertical-align: top;\n",
       "    }\n",
       "\n",
       "    .dataframe thead th {\n",
       "        text-align: right;\n",
       "    }\n",
       "</style>\n",
       "<table border=\"1\" class=\"dataframe\">\n",
       "  <thead>\n",
       "    <tr style=\"text-align: right;\">\n",
       "      <th></th>\n",
       "      <th>PMP_ID</th>\n",
       "      <th>counts_T1</th>\n",
       "      <th>counts_T2</th>\n",
       "      <th>odds_ratio</th>\n",
       "      <th>p_value</th>\n",
       "      <th>cfDNA_VRF</th>\n",
       "      <th>Islet_VRF</th>\n",
       "    </tr>\n",
       "  </thead>\n",
       "  <tbody>\n",
       "    <tr>\n",
       "      <th>0</th>\n",
       "      <td>f_10319:10335:10343_`000</td>\n",
       "      <td>23799</td>\n",
       "      <td>653531</td>\n",
       "      <td>0.766693</td>\n",
       "      <td>0.0</td>\n",
       "      <td>0.000056</td>\n",
       "      <td>0.000043</td>\n",
       "    </tr>\n",
       "    <tr>\n",
       "      <th>1</th>\n",
       "      <td>f_10319:10343:10363_`000</td>\n",
       "      <td>21459</td>\n",
       "      <td>595989</td>\n",
       "      <td>0.758054</td>\n",
       "      <td>0.0</td>\n",
       "      <td>0.000051</td>\n",
       "      <td>0.000038</td>\n",
       "    </tr>\n",
       "    <tr>\n",
       "      <th>2</th>\n",
       "      <td>f_10294:10312:10343_`000</td>\n",
       "      <td>17244</td>\n",
       "      <td>480713</td>\n",
       "      <td>0.755235</td>\n",
       "      <td>0.0</td>\n",
       "      <td>0.000041</td>\n",
       "      <td>0.000031</td>\n",
       "    </tr>\n",
       "    <tr>\n",
       "      <th>3</th>\n",
       "      <td>f_10319:10363:10372_`000</td>\n",
       "      <td>19445</td>\n",
       "      <td>544013</td>\n",
       "      <td>0.752538</td>\n",
       "      <td>0.0</td>\n",
       "      <td>0.000046</td>\n",
       "      <td>0.000035</td>\n",
       "    </tr>\n",
       "    <tr>\n",
       "      <th>4</th>\n",
       "      <td>f_10343:10363:10372_`000</td>\n",
       "      <td>24825</td>\n",
       "      <td>699173</td>\n",
       "      <td>0.747537</td>\n",
       "      <td>0.0</td>\n",
       "      <td>0.000059</td>\n",
       "      <td>0.000044</td>\n",
       "    </tr>\n",
       "    <tr>\n",
       "      <th>5</th>\n",
       "      <td>f_10298:10335:10363_`000</td>\n",
       "      <td>14915</td>\n",
       "      <td>430810</td>\n",
       "      <td>0.728899</td>\n",
       "      <td>0.0</td>\n",
       "      <td>0.000037</td>\n",
       "      <td>0.000027</td>\n",
       "    </tr>\n",
       "    <tr>\n",
       "      <th>6</th>\n",
       "      <td>f_13794:13806:13811_`000</td>\n",
       "      <td>13732</td>\n",
       "      <td>398534</td>\n",
       "      <td>0.725436</td>\n",
       "      <td>0.0</td>\n",
       "      <td>0.000034</td>\n",
       "      <td>0.000025</td>\n",
       "    </tr>\n",
       "    <tr>\n",
       "      <th>7</th>\n",
       "      <td>f_10381:10393:10439_`000</td>\n",
       "      <td>14537</td>\n",
       "      <td>422473</td>\n",
       "      <td>0.724446</td>\n",
       "      <td>0.0</td>\n",
       "      <td>0.000036</td>\n",
       "      <td>0.000026</td>\n",
       "    </tr>\n",
       "    <tr>\n",
       "      <th>8</th>\n",
       "      <td>f_10298:10363:10381_`000</td>\n",
       "      <td>13151</td>\n",
       "      <td>382328</td>\n",
       "      <td>0.724191</td>\n",
       "      <td>0.0</td>\n",
       "      <td>0.000033</td>\n",
       "      <td>0.000024</td>\n",
       "    </tr>\n",
       "    <tr>\n",
       "      <th>9</th>\n",
       "      <td>f_10312:10319:10343_`000</td>\n",
       "      <td>20842</td>\n",
       "      <td>606242</td>\n",
       "      <td>0.723805</td>\n",
       "      <td>0.0</td>\n",
       "      <td>0.000052</td>\n",
       "      <td>0.000037</td>\n",
       "    </tr>\n",
       "  </tbody>\n",
       "</table>\n",
       "</div>"
      ],
      "text/plain": [
       "                     PMP_ID  counts_T1  counts_T2  odds_ratio  p_value  \\\n",
       "0  f_10319:10335:10343_`000      23799     653531    0.766693      0.0   \n",
       "1  f_10319:10343:10363_`000      21459     595989    0.758054      0.0   \n",
       "2  f_10294:10312:10343_`000      17244     480713    0.755235      0.0   \n",
       "3  f_10319:10363:10372_`000      19445     544013    0.752538      0.0   \n",
       "4  f_10343:10363:10372_`000      24825     699173    0.747537      0.0   \n",
       "5  f_10298:10335:10363_`000      14915     430810    0.728899      0.0   \n",
       "6  f_13794:13806:13811_`000      13732     398534    0.725436      0.0   \n",
       "7  f_10381:10393:10439_`000      14537     422473    0.724446      0.0   \n",
       "8  f_10298:10363:10381_`000      13151     382328    0.724191      0.0   \n",
       "9  f_10312:10319:10343_`000      20842     606242    0.723805      0.0   \n",
       "\n",
       "   cfDNA_VRF  Islet_VRF  \n",
       "0   0.000056   0.000043  \n",
       "1   0.000051   0.000038  \n",
       "2   0.000041   0.000031  \n",
       "3   0.000046   0.000035  \n",
       "4   0.000059   0.000044  \n",
       "5   0.000037   0.000027  \n",
       "6   0.000034   0.000025  \n",
       "7   0.000036   0.000026  \n",
       "8   0.000033   0.000024  \n",
       "9   0.000052   0.000037  "
      ]
     },
     "execution_count": 27,
     "metadata": {},
     "output_type": "execute_result"
    }
   ],
   "source": [
    "df_final.head(10)"
   ]
  },
  {
   "cell_type": "markdown",
   "id": "c4053c41-e9c0-46ac-aca4-990674db89e9",
   "metadata": {},
   "source": [
    "# Other questions"
   ]
  },
  {
   "cell_type": "code",
   "execution_count": null,
   "id": "d31487a6-5cff-494b-95da-0d491f65870d",
   "metadata": {},
   "outputs": [],
   "source": [
    "# How does sequencing depth affect specificity confidence?"
   ]
  },
  {
   "cell_type": "code",
   "execution_count": null,
   "id": "53928ec1-e883-4204-a91c-1ec80cc69633",
   "metadata": {},
   "outputs": [],
   "source": [
    "# For the top 10 PMPs, estimate the threshold of reads required to confidently call Tissue #2 \n",
    "# at a sequencing depth of 1 million reads."
   ]
  },
  {
   "cell_type": "code",
   "execution_count": null,
   "id": "6ba42fe2-df67-4563-acb8-2c29bf180362",
   "metadata": {},
   "outputs": [],
   "source": [
    "# Validate the hypothesis by comparing the specificity of the top 10 PMPs against individual CpG sites."
   ]
  }
 ],
 "metadata": {
  "kernelspec": {
   "display_name": "Python 3 (ipykernel)",
   "language": "python",
   "name": "python3"
  },
  "language_info": {
   "codemirror_mode": {
    "name": "ipython",
    "version": 3
   },
   "file_extension": ".py",
   "mimetype": "text/x-python",
   "name": "python",
   "nbconvert_exporter": "python",
   "pygments_lexer": "ipython3",
   "version": "3.9.12"
  }
 },
 "nbformat": 4,
 "nbformat_minor": 5
}
