{
 "cells": [
  {
   "cell_type": "code",
   "execution_count": 1,
   "id": "39e1a802-66e0-41da-b5b1-33e9e69a80ce",
   "metadata": {},
   "outputs": [],
   "source": [
    "import pandas as pd\n",
    "import seaborn as sns\n",
    "import matplotlib.pyplot as plt\n",
    "from sklearn.preprocessing import StandardScaler\n",
    "\n",
    "from config import DATA_FOLDER, METHYLATION_CSV_FILE, NUMBER_OF_CPG_SITES\n",
    "from utils import get_patterns"
   ]
  },
  {
   "cell_type": "code",
   "execution_count": 2,
   "id": "37a8a422-b72a-41f7-9881-28b9424e3592",
   "metadata": {},
   "outputs": [],
   "source": [
    "%matplotlib inline"
   ]
  },
  {
   "cell_type": "code",
   "execution_count": 3,
   "id": "9db1178b-95c4-4763-a941-a64da75bc276",
   "metadata": {},
   "outputs": [
    {
     "data": {
      "text/plain": [
       "['`000', '`001', '`010', '`011', '`100', '`101', '`110', '`111']"
      ]
     },
     "execution_count": 3,
     "metadata": {},
     "output_type": "execute_result"
    }
   ],
   "source": [
    "patterns = get_patterns(NUMBER_OF_CPG_SITES)\n",
    "patterns"
   ]
  },
  {
   "cell_type": "markdown",
   "id": "91039105-1b57-4447-8f25-9bff71160166",
   "metadata": {},
   "source": [
    "# Get data"
   ]
  },
  {
   "cell_type": "code",
   "execution_count": 4,
   "id": "705db6ea-5a62-477f-be52-96147f8a92f6",
   "metadata": {},
   "outputs": [],
   "source": [
    "# This is a big file\n",
    "# Reading the file can be faster if it is saved as a pickle/parquet file\n",
    "df = pd.read_csv(f'{DATA_FOLDER}/{METHYLATION_CSV_FILE}')"
   ]
  },
  {
   "cell_type": "markdown",
   "id": "f85f4308-5409-4008-9a7d-93da1a357412",
   "metadata": {},
   "source": [
    "# Look at the data"
   ]
  },
  {
   "cell_type": "code",
   "execution_count": 5,
   "id": "3fa51189-15ca-483f-9806-62fb25cf1fda",
   "metadata": {},
   "outputs": [
    {
     "data": {
      "text/html": [
       "<div>\n",
       "<style scoped>\n",
       "    .dataframe tbody tr th:only-of-type {\n",
       "        vertical-align: middle;\n",
       "    }\n",
       "\n",
       "    .dataframe tbody tr th {\n",
       "        vertical-align: top;\n",
       "    }\n",
       "\n",
       "    .dataframe thead th {\n",
       "        text-align: right;\n",
       "    }\n",
       "</style>\n",
       "<table border=\"1\" class=\"dataframe\">\n",
       "  <thead>\n",
       "    <tr style=\"text-align: right;\">\n",
       "      <th></th>\n",
       "      <th>strand</th>\n",
       "      <th>CpG_Coordinates</th>\n",
       "      <th>`000</th>\n",
       "      <th>`001</th>\n",
       "      <th>`010</th>\n",
       "      <th>`011</th>\n",
       "      <th>`100</th>\n",
       "      <th>`101</th>\n",
       "      <th>`110</th>\n",
       "      <th>`111</th>\n",
       "      <th>Sample_ID</th>\n",
       "      <th>Replicate</th>\n",
       "      <th>Tissue</th>\n",
       "    </tr>\n",
       "  </thead>\n",
       "  <tbody>\n",
       "    <tr>\n",
       "      <th>0</th>\n",
       "      <td>r</td>\n",
       "      <td>10035:10044:10046</td>\n",
       "      <td>1077</td>\n",
       "      <td>9</td>\n",
       "      <td>0</td>\n",
       "      <td>0</td>\n",
       "      <td>0</td>\n",
       "      <td>0</td>\n",
       "      <td>0</td>\n",
       "      <td>4</td>\n",
       "      <td>1</td>\n",
       "      <td>Rep2</td>\n",
       "      <td>cfDNA</td>\n",
       "    </tr>\n",
       "    <tr>\n",
       "      <th>1</th>\n",
       "      <td>r</td>\n",
       "      <td>10035:10044:10053</td>\n",
       "      <td>1086</td>\n",
       "      <td>0</td>\n",
       "      <td>0</td>\n",
       "      <td>0</td>\n",
       "      <td>0</td>\n",
       "      <td>0</td>\n",
       "      <td>0</td>\n",
       "      <td>4</td>\n",
       "      <td>1</td>\n",
       "      <td>Rep2</td>\n",
       "      <td>cfDNA</td>\n",
       "    </tr>\n",
       "    <tr>\n",
       "      <th>2</th>\n",
       "      <td>r</td>\n",
       "      <td>10035:10044:10058</td>\n",
       "      <td>1069</td>\n",
       "      <td>17</td>\n",
       "      <td>0</td>\n",
       "      <td>0</td>\n",
       "      <td>0</td>\n",
       "      <td>0</td>\n",
       "      <td>0</td>\n",
       "      <td>4</td>\n",
       "      <td>1</td>\n",
       "      <td>Rep2</td>\n",
       "      <td>cfDNA</td>\n",
       "    </tr>\n",
       "    <tr>\n",
       "      <th>3</th>\n",
       "      <td>r</td>\n",
       "      <td>10035:10044:10071</td>\n",
       "      <td>1072</td>\n",
       "      <td>14</td>\n",
       "      <td>0</td>\n",
       "      <td>0</td>\n",
       "      <td>0</td>\n",
       "      <td>0</td>\n",
       "      <td>0</td>\n",
       "      <td>4</td>\n",
       "      <td>1</td>\n",
       "      <td>Rep2</td>\n",
       "      <td>cfDNA</td>\n",
       "    </tr>\n",
       "    <tr>\n",
       "      <th>4</th>\n",
       "      <td>r</td>\n",
       "      <td>10035:10044:10075</td>\n",
       "      <td>1086</td>\n",
       "      <td>0</td>\n",
       "      <td>0</td>\n",
       "      <td>0</td>\n",
       "      <td>0</td>\n",
       "      <td>0</td>\n",
       "      <td>0</td>\n",
       "      <td>4</td>\n",
       "      <td>1</td>\n",
       "      <td>Rep2</td>\n",
       "      <td>cfDNA</td>\n",
       "    </tr>\n",
       "  </tbody>\n",
       "</table>\n",
       "</div>"
      ],
      "text/plain": [
       "  strand    CpG_Coordinates  `000  `001  `010  `011  `100  `101  `110  `111  \\\n",
       "0      r  10035:10044:10046  1077     9     0     0     0     0     0     4   \n",
       "1      r  10035:10044:10053  1086     0     0     0     0     0     0     4   \n",
       "2      r  10035:10044:10058  1069    17     0     0     0     0     0     4   \n",
       "3      r  10035:10044:10071  1072    14     0     0     0     0     0     4   \n",
       "4      r  10035:10044:10075  1086     0     0     0     0     0     0     4   \n",
       "\n",
       "   Sample_ID Replicate Tissue  \n",
       "0          1      Rep2  cfDNA  \n",
       "1          1      Rep2  cfDNA  \n",
       "2          1      Rep2  cfDNA  \n",
       "3          1      Rep2  cfDNA  \n",
       "4          1      Rep2  cfDNA  "
      ]
     },
     "execution_count": 5,
     "metadata": {},
     "output_type": "execute_result"
    }
   ],
   "source": [
    "df.head()"
   ]
  },
  {
   "cell_type": "code",
   "execution_count": 6,
   "id": "cf531690-5b26-471c-96f9-fa320cea494c",
   "metadata": {},
   "outputs": [
    {
     "name": "stdout",
     "output_type": "stream",
     "text": [
      "<class 'pandas.core.frame.DataFrame'>\n",
      "RangeIndex: 15392183 entries, 0 to 15392182\n",
      "Data columns (total 13 columns):\n",
      " #   Column           Dtype \n",
      "---  ------           ----- \n",
      " 0   strand           object\n",
      " 1   CpG_Coordinates  object\n",
      " 2   `000             int64 \n",
      " 3   `001             int64 \n",
      " 4   `010             int64 \n",
      " 5   `011             int64 \n",
      " 6   `100             int64 \n",
      " 7   `101             int64 \n",
      " 8   `110             int64 \n",
      " 9   `111             int64 \n",
      " 10  Sample_ID        int64 \n",
      " 11  Replicate        object\n",
      " 12  Tissue           object\n",
      "dtypes: int64(9), object(4)\n",
      "memory usage: 1.5+ GB\n"
     ]
    }
   ],
   "source": [
    "df.info()"
   ]
  },
  {
   "cell_type": "code",
   "execution_count": 7,
   "id": "d70c6488-39ca-42ba-8060-97378a9dcdd8",
   "metadata": {},
   "outputs": [
    {
     "name": "stdout",
     "output_type": "stream",
     "text": [
      "['r' 'f']\n",
      "['Rep2' 'Rep1']\n",
      "['cfDNA' 'Islet']\n"
     ]
    }
   ],
   "source": [
    "# There are 2 technical replicates and 2 tissue types\n",
    "for x in ['strand', 'Replicate', 'Tissue']:\n",
    "    print(df[x].unique())"
   ]
  },
  {
   "cell_type": "code",
   "execution_count": 8,
   "id": "0f4d4f57-81b5-4c5c-83a9-9f77800bbe3f",
   "metadata": {},
   "outputs": [
    {
     "data": {
      "text/plain": [
       "strand  Tissue  Replicate\n",
       "f       Islet   Rep1         32\n",
       "        cfDNA   Rep1         47\n",
       "                Rep2         48\n",
       "r       Islet   Rep1         32\n",
       "        cfDNA   Rep1         47\n",
       "                Rep2         48\n",
       "Name: Sample_ID, dtype: int64"
      ]
     },
     "execution_count": 8,
     "metadata": {},
     "output_type": "execute_result"
    }
   ],
   "source": [
    "# We don't have 2 technical replicates for Islet tissue type\n",
    "# We have more samples of circulating free DNA\n",
    "df.groupby(['strand', 'Tissue', 'Replicate'])['Sample_ID'].nunique()"
   ]
  },
  {
   "cell_type": "code",
   "execution_count": 9,
   "id": "92785b03-8776-487f-affc-2b644d2ec41e",
   "metadata": {},
   "outputs": [
    {
     "name": "stdout",
     "output_type": "stream",
     "text": [
      "1\n",
      "80\n",
      "80\n"
     ]
    }
   ],
   "source": [
    "# There are 80 samples\n",
    "print(df['Sample_ID'].min())\n",
    "print(df['Sample_ID'].max())\n",
    "print(df['Sample_ID'].nunique())"
   ]
  },
  {
   "cell_type": "markdown",
   "id": "deb4195d-509a-43bb-b43b-a0a3af053577",
   "metadata": {},
   "source": [
    "# Coverage analysis"
   ]
  },
  {
   "cell_type": "code",
   "execution_count": 10,
   "id": "472ff9ee-5d8a-4402-ac07-39060a5dbb78",
   "metadata": {},
   "outputs": [],
   "source": [
    "# Calculate the median and coefficient of variation (CV) for single CpG coverage in each tissue\n",
    "\n",
    "# Coverage analysis can help us evaluate data quality\n",
    "\n",
    "# The CpG_Coordinates are not split below, so this is not truly \"single CpG coverage\"\n",
    "# I have treated the phased triple as a single epigenetic locus\n",
    "\n",
    "# A common approach is to sum across all methylation patterns\n",
    "# to get total coverage at that phased triple locus\n",
    "\n",
    "df['Total_Coverage'] = df[patterns].sum(axis=1)\n",
    "df_locus = df.groupby(['Tissue', 'CpG_Coordinates'])['Total_Coverage'].sum().reset_index()\n",
    "df_strand = df.groupby(['Tissue', 'strand', 'CpG_Coordinates'])['Total_Coverage'].sum().reset_index()\n",
    "df_rep = df.groupby(['Tissue', 'Replicate', 'CpG_Coordinates'])['Total_Coverage'].sum().reset_index()"
   ]
  },
  {
   "cell_type": "code",
   "execution_count": 11,
   "id": "3c131256-bb1b-41ec-9a79-0f8768f1530b",
   "metadata": {},
   "outputs": [
    {
     "data": {
      "text/html": [
       "<div>\n",
       "<style scoped>\n",
       "    .dataframe tbody tr th:only-of-type {\n",
       "        vertical-align: middle;\n",
       "    }\n",
       "\n",
       "    .dataframe tbody tr th {\n",
       "        vertical-align: top;\n",
       "    }\n",
       "\n",
       "    .dataframe thead th {\n",
       "        text-align: right;\n",
       "    }\n",
       "</style>\n",
       "<table border=\"1\" class=\"dataframe\">\n",
       "  <thead>\n",
       "    <tr style=\"text-align: right;\">\n",
       "      <th></th>\n",
       "      <th>Tissue</th>\n",
       "      <th>median</th>\n",
       "      <th>mean</th>\n",
       "      <th>std</th>\n",
       "      <th>CV</th>\n",
       "    </tr>\n",
       "  </thead>\n",
       "  <tbody>\n",
       "    <tr>\n",
       "      <th>0</th>\n",
       "      <td>Islet</td>\n",
       "      <td>4762.0</td>\n",
       "      <td>8534.123892</td>\n",
       "      <td>9733.194154</td>\n",
       "      <td>1.140503</td>\n",
       "    </tr>\n",
       "    <tr>\n",
       "      <th>1</th>\n",
       "      <td>cfDNA</td>\n",
       "      <td>90208.5</td>\n",
       "      <td>178228.548366</td>\n",
       "      <td>222046.851894</td>\n",
       "      <td>1.245855</td>\n",
       "    </tr>\n",
       "  </tbody>\n",
       "</table>\n",
       "</div>"
      ],
      "text/plain": [
       "  Tissue   median           mean            std        CV\n",
       "0  Islet   4762.0    8534.123892    9733.194154  1.140503\n",
       "1  cfDNA  90208.5  178228.548366  222046.851894  1.245855"
      ]
     },
     "execution_count": 11,
     "metadata": {},
     "output_type": "execute_result"
    }
   ],
   "source": [
    "# The mean values are higher than median\n",
    "# The distribution is skewed (clearly visible in boxplots below)\n",
    "\n",
    "stats = df_locus.groupby(['Tissue'])['Total_Coverage'].agg(['median', 'mean', 'std']).reset_index()\n",
    "stats['CV'] = stats['std'] / stats['mean']\n",
    "stats"
   ]
  },
  {
   "cell_type": "code",
   "execution_count": 12,
   "id": "6c81aba9-8c69-4207-a76d-d5e965c979ee",
   "metadata": {},
   "outputs": [
    {
     "data": {
      "image/png": "[encoded data removed]",
      "text/plain": [
       "<Figure size 576x432 with 1 Axes>"
      ]
     },
     "metadata": {},
     "output_type": "display_data"
    }
   ],
   "source": [
    "# There seem to be a lot of outliers\n",
    "sns.set(style='whitegrid')\n",
    "plt.figure(figsize=(8,6))\n",
    "sns.boxplot(x='Tissue', y='Total_Coverage', data=df_locus)\n",
    "plt.title(\"Distribution of total coverage by Tissue\")\n",
    "plt.ylabel(\"Coverage\")\n",
    "plt.xlabel(\"Tissue\")\n",
    "plt.tight_layout()\n",
    "\n",
    "plt.show()"
   ]
  },
  {
   "cell_type": "markdown",
   "id": "1ce08061-7527-46f4-baf5-192cc1c79b63",
   "metadata": {},
   "source": [
    "## Coverage stats by Tissue and Strand"
   ]
  },
  {
   "cell_type": "code",
   "execution_count": 13,
   "id": "9318e408-a724-46e2-b6f0-9f25651eee40",
   "metadata": {},
   "outputs": [
    {
     "data": {
      "text/html": [
       "<div>\n",
       "<style scoped>\n",
       "    .dataframe tbody tr th:only-of-type {\n",
       "        vertical-align: middle;\n",
       "    }\n",
       "\n",
       "    .dataframe tbody tr th {\n",
       "        vertical-align: top;\n",
       "    }\n",
       "\n",
       "    .dataframe thead th {\n",
       "        text-align: right;\n",
       "    }\n",
       "</style>\n",
       "<table border=\"1\" class=\"dataframe\">\n",
       "  <thead>\n",
       "    <tr style=\"text-align: right;\">\n",
       "      <th></th>\n",
       "      <th>Tissue</th>\n",
       "      <th>strand</th>\n",
       "      <th>mean</th>\n",
       "      <th>median</th>\n",
       "      <th>std</th>\n",
       "      <th>CV</th>\n",
       "    </tr>\n",
       "  </thead>\n",
       "  <tbody>\n",
       "    <tr>\n",
       "      <th>0</th>\n",
       "      <td>Islet</td>\n",
       "      <td>f</td>\n",
       "      <td>4911.560906</td>\n",
       "      <td>2920.5</td>\n",
       "      <td>5521.360744</td>\n",
       "      <td>1.124156</td>\n",
       "    </tr>\n",
       "    <tr>\n",
       "      <th>1</th>\n",
       "      <td>Islet</td>\n",
       "      <td>r</td>\n",
       "      <td>3861.656847</td>\n",
       "      <td>1799.0</td>\n",
       "      <td>4674.749670</td>\n",
       "      <td>1.210555</td>\n",
       "    </tr>\n",
       "    <tr>\n",
       "      <th>2</th>\n",
       "      <td>cfDNA</td>\n",
       "      <td>f</td>\n",
       "      <td>101495.106485</td>\n",
       "      <td>54521.0</td>\n",
       "      <td>122704.943440</td>\n",
       "      <td>1.208974</td>\n",
       "    </tr>\n",
       "    <tr>\n",
       "      <th>3</th>\n",
       "      <td>cfDNA</td>\n",
       "      <td>r</td>\n",
       "      <td>81457.929502</td>\n",
       "      <td>30721.5</td>\n",
       "      <td>110953.440426</td>\n",
       "      <td>1.362095</td>\n",
       "    </tr>\n",
       "  </tbody>\n",
       "</table>\n",
       "</div>"
      ],
      "text/plain": [
       "  Tissue strand           mean   median            std        CV\n",
       "0  Islet      f    4911.560906   2920.5    5521.360744  1.124156\n",
       "1  Islet      r    3861.656847   1799.0    4674.749670  1.210555\n",
       "2  cfDNA      f  101495.106485  54521.0  122704.943440  1.208974\n",
       "3  cfDNA      r   81457.929502  30721.5  110953.440426  1.362095"
      ]
     },
     "execution_count": 13,
     "metadata": {},
     "output_type": "execute_result"
    }
   ],
   "source": [
    "# The median values in forward strand are higher compared to reverse strand in both tissue types\n",
    "df_strand_stats = df_strand.groupby(['Tissue','strand'])['Total_Coverage'].agg(['mean','median','std']).reset_index()\n",
    "df_strand_stats['CV'] = df_strand_stats['std'] / df_strand_stats['mean']\n",
    "df_strand_stats "
   ]
  },
  {
   "cell_type": "code",
   "execution_count": 14,
   "id": "a0f480f4-1e52-4f68-b8dd-2fbd904ac006",
   "metadata": {},
   "outputs": [
    {
     "data": {
      "image/png": "[encoded data removed]",
      "text/plain": [
       "<Figure size 720x432 with 1 Axes>"
      ]
     },
     "metadata": {},
     "output_type": "display_data"
    }
   ],
   "source": [
    "plt.figure(figsize=(10,6))\n",
    "\n",
    "sns.boxplot(x='Tissue', y='Total_Coverage',hue='strand',data=df_strand)\n",
    "plt.title(\"Coverage by Tissue and Strand\")\n",
    "plt.xlabel(\"Tissue\")\n",
    "plt.ylabel(\"Total Coverage\")\n",
    "plt.legend(title=\"Strand\")\n",
    "plt.tight_layout()\n",
    "\n",
    "plt.show()"
   ]
  },
  {
   "cell_type": "markdown",
   "id": "3a6ad529-0ca9-4f49-a713-6d4b20045458",
   "metadata": {},
   "source": [
    "## Coverage stats by Tissue and Replicate"
   ]
  },
  {
   "cell_type": "code",
   "execution_count": 15,
   "id": "4f03c447-f61b-4f37-af5a-9f4be1dad370",
   "metadata": {},
   "outputs": [
    {
     "data": {
      "text/html": [
       "<div>\n",
       "<style scoped>\n",
       "    .dataframe tbody tr th:only-of-type {\n",
       "        vertical-align: middle;\n",
       "    }\n",
       "\n",
       "    .dataframe tbody tr th {\n",
       "        vertical-align: top;\n",
       "    }\n",
       "\n",
       "    .dataframe thead th {\n",
       "        text-align: right;\n",
       "    }\n",
       "</style>\n",
       "<table border=\"1\" class=\"dataframe\">\n",
       "  <thead>\n",
       "    <tr style=\"text-align: right;\">\n",
       "      <th></th>\n",
       "      <th>Tissue</th>\n",
       "      <th>Replicate</th>\n",
       "      <th>mean</th>\n",
       "      <th>median</th>\n",
       "      <th>std</th>\n",
       "      <th>CV</th>\n",
       "    </tr>\n",
       "  </thead>\n",
       "  <tbody>\n",
       "    <tr>\n",
       "      <th>0</th>\n",
       "      <td>Islet</td>\n",
       "      <td>Rep1</td>\n",
       "      <td>8534.123892</td>\n",
       "      <td>4762.0</td>\n",
       "      <td>9733.194154</td>\n",
       "      <td>1.140503</td>\n",
       "    </tr>\n",
       "    <tr>\n",
       "      <th>1</th>\n",
       "      <td>cfDNA</td>\n",
       "      <td>Rep1</td>\n",
       "      <td>79456.485655</td>\n",
       "      <td>40297.5</td>\n",
       "      <td>98926.656313</td>\n",
       "      <td>1.245042</td>\n",
       "    </tr>\n",
       "    <tr>\n",
       "      <th>2</th>\n",
       "      <td>cfDNA</td>\n",
       "      <td>Rep2</td>\n",
       "      <td>98808.192434</td>\n",
       "      <td>49968.5</td>\n",
       "      <td>123128.895556</td>\n",
       "      <td>1.246141</td>\n",
       "    </tr>\n",
       "  </tbody>\n",
       "</table>\n",
       "</div>"
      ],
      "text/plain": [
       "  Tissue Replicate          mean   median            std        CV\n",
       "0  Islet      Rep1   8534.123892   4762.0    9733.194154  1.140503\n",
       "1  cfDNA      Rep1  79456.485655  40297.5   98926.656313  1.245042\n",
       "2  cfDNA      Rep2  98808.192434  49968.5  123128.895556  1.246141"
      ]
     },
     "execution_count": 15,
     "metadata": {},
     "output_type": "execute_result"
    }
   ],
   "source": [
    "# In cfDNA, replicate 2 has higher median compared to replicate 1\n",
    "# But the variation in cfDNA coverage within each repl icate is similar\n",
    "# It might be worth validating the wet lab protocols used in both replicates\n",
    "\n",
    "df_rep_stats = df_rep.groupby(['Tissue','Replicate'])['Total_Coverage'].agg(['mean','median','std']).reset_index()\n",
    "df_rep_stats['CV'] = df_rep_stats['std'] / df_rep_stats['mean']\n",
    "df_rep_stats"
   ]
  },
  {
   "cell_type": "code",
   "execution_count": 16,
   "id": "5f9521a1-b2f6-4af1-b684-03af2478d946",
   "metadata": {},
   "outputs": [
    {
     "data": {
      "image/png": "[encoded data removed]",
      "text/plain": [
       "<Figure size 720x432 with 1 Axes>"
      ]
     },
     "metadata": {},
     "output_type": "display_data"
    }
   ],
   "source": [
    "plt.figure(figsize=(10,6))\n",
    "\n",
    "sns.boxplot(x='Tissue', y='Total_Coverage', hue='Replicate', data=df_rep)\n",
    "plt.title(\"Coverage by Tissue and Replicate\")\n",
    "plt.xlabel(\"Tissue\")\n",
    "plt.ylabel(\"Total Coverage\")\n",
    "plt.legend(title=\"Replicate\")\n",
    "plt.tight_layout()\n",
    "\n",
    "plt.show()"
   ]
  },
  {
   "cell_type": "markdown",
   "id": "952f6496-325f-4221-bfcc-9685f086aca7",
   "metadata": {},
   "source": [
    "## Biomarker identification"
   ]
  },
  {
   "cell_type": "code",
   "execution_count": 17,
   "id": "bee17491-a802-4d20-9fd6-236ba732255c",
   "metadata": {},
   "outputs": [],
   "source": [
    "# Identify PMPs with high specificity for tissue differentiation, minimizing false\n",
    "# positives for Tissue #1 while allowing some false negatives"
   ]
  },
  {
   "cell_type": "code",
   "execution_count": 18,
   "id": "826fb9bc-18ec-4503-80c3-ff9186d8e35a",
   "metadata": {},
   "outputs": [],
   "source": [
    "# Calculate the mean variant read fraction (VRF) for each PMP in both tissues"
   ]
  },
  {
   "cell_type": "markdown",
   "id": "c4053c41-e9c0-46ac-aca4-990674db89e9",
   "metadata": {},
   "source": [
    "## Questions"
   ]
  },
  {
   "cell_type": "code",
   "execution_count": 19,
   "id": "d31487a6-5cff-494b-95da-0d491f65870d",
   "metadata": {},
   "outputs": [],
   "source": [
    "# How does sequencing depth affect specificity confidence?"
   ]
  },
  {
   "cell_type": "code",
   "execution_count": 20,
   "id": "53928ec1-e883-4204-a91c-1ec80cc69633",
   "metadata": {},
   "outputs": [],
   "source": [
    "# For the top 10 PMPs, estimate the threshold of reads required to confidently call Tissue #2 \n",
    "# at a sequencing depth of 1 million reads."
   ]
  },
  {
   "cell_type": "code",
   "execution_count": 21,
   "id": "6ba42fe2-df67-4563-acb8-2c29bf180362",
   "metadata": {},
   "outputs": [],
   "source": [
    "# Validate the hypothesis by comparing the specificity of the top 10 PMPs against individual CpG sites."
   ]
  }
 ],
 "metadata": {
  "kernelspec": {
   "display_name": "Python 3 (ipykernel)",
   "language": "python",
   "name": "python3"
  },
  "language_info": {
   "codemirror_mode": {
    "name": "ipython",
    "version": 3
   },
   "file_extension": ".py",
   "mimetype": "text/x-python",
   "name": "python",
   "nbconvert_exporter": "python",
   "pygments_lexer": "ipython3",
   "version": "3.9.12"
  }
 },
 "nbformat": 4,
 "nbformat_minor": 5
}
