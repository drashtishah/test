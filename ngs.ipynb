{
 "cells": [
  {
   "cell_type": "code",
   "execution_count": null,
   "id": "cc2b1097-5c37-4963-a5c9-242f4665472a",
   "metadata": {},
   "outputs": [],
   "source": [
    "import pandas as pd\n",
    "from config import RESULTS_FOLDER, DATA_FOLDER, NORMAL_R1, NORMAL_R2, TUMOR_R1, TUMOR_R2, REFERENCE_CSV_FILE"
   ]
  },
  {
   "cell_type": "markdown",
   "id": "e9945c9a-474d-4351-9ad0-d859e1d40866",
   "metadata": {},
   "source": [
    "# Quality control"
   ]
  },
  {
   "cell_type": "code",
   "execution_count": null,
   "id": "b4d2fd1d-800b-4d5a-8b83-40b45af32c18",
   "metadata": {},
   "outputs": [],
   "source": [
    "# Perform quality checks using tools like FastQC and summarize quality metrics (e.g., sequence counts, \n",
    "# per-base quality, read duplication levels).\n",
    "\n",
    "# Decompress if needed\n",
    "!gunzip \"$DATA_FOLDER\"/*.fastq.gz\n",
    "\n",
    "# Run FASTQC\n",
    "# The summary of quality metrics is provided in the pdf report\n",
    "!fastqc \"$DATA_FOLDER/$NORMAL_R1\" \"$DATA_FOLDER/$NORMAL_R2\" \"$DATA_FOLDER/$TUMOR_R1\" \"$DATA_FOLDER/$TUMOR_R2\" -o \"$RESULTS_FOLDER\""
   ]
  },
  {
   "cell_type": "markdown",
   "id": "6c66c869-256d-499e-9ac1-4b86386c6441",
   "metadata": {},
   "source": [
    "# Alignment and mutation calling"
   ]
  },
  {
   "cell_type": "code",
   "execution_count": 4,
   "id": "6575f220-2a30-40da-b642-0c5fdc941fa3",
   "metadata": {},
   "outputs": [],
   "source": [
    "# Align the samples to the human genome using tools like Bowtie2 or BWA.\n",
    "# https://gatk.broadinstitute.org/hc/en-us/articles/360035535912-Data-pre-processing-for-variant-discovery\n",
    "\n"
   ]
  },
  {
   "cell_type": "code",
   "execution_count": 5,
   "id": "4f7a3bb1-b2c8-464d-9885-3fdafa5f2b6f",
   "metadata": {},
   "outputs": [],
   "source": [
    "# Identify somatic mutations present in the cancer sample but absent in the normal tissue.\n",
    "# https://gatk.broadinstitute.org/hc/en-us/articles/360035894731-Somatic-short-variant-discovery-SNVs-Indels\n",
    "\n"
   ]
  },
  {
   "cell_type": "code",
   "execution_count": 6,
   "id": "a56e0570-ac3f-4657-9a2c-ccdbc6afe730",
   "metadata": {},
   "outputs": [],
   "source": [
    "# Use the normal tissue to calculate the median background mutation level.\n",
    "# The background mutation level accounts for sequencing errors or biases\n",
    "# that can mimic true mutations. Determine how many reads per million are\n",
    "# required to confidently call a given mutation."
   ]
  }
 ],
 "metadata": {
  "kernelspec": {
   "display_name": "Python 3 (ipykernel)",
   "language": "python",
   "name": "python3"
  },
  "language_info": {
   "codemirror_mode": {
    "name": "ipython",
    "version": 3
   },
   "file_extension": ".py",
   "mimetype": "text/x-python",
   "name": "python",
   "nbconvert_exporter": "python",
   "pygments_lexer": "ipython3",
   "version": "3.9.12"
  }
 },
 "nbformat": 4,
 "nbformat_minor": 5
}
