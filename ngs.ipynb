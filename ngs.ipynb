{
 "cells": [
  {
   "cell_type": "code",
   "execution_count": null,
   "id": "cc2b1097-5c37-4963-a5c9-242f4665472a",
   "metadata": {},
   "outputs": [],
   "source": [
    "import pandas as pd\n",
    "from config import NORMAL_FASTQ_FILE_LIST, TUMOR_FASTQ_FILE_LIST, REFERENCE_CSV_FILE"
   ]
  }
 ],
 "metadata": {
  "kernelspec": {
   "display_name": "Python 3 (ipykernel)",
   "language": "python",
   "name": "python3"
  },
  "language_info": {
   "codemirror_mode": {
    "name": "ipython",
    "version": 3
   },
   "file_extension": ".py",
   "mimetype": "text/x-python",
   "name": "python",
   "nbconvert_exporter": "python",
   "pygments_lexer": "ipython3",
   "version": "3.9.12"
  }
 },
 "nbformat": 4,
 "nbformat_minor": 5
}
