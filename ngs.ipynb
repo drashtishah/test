{
 "cells": [
  {
   "cell_type": "code",
   "execution_count": 1,
   "id": "cc2b1097-5c37-4963-a5c9-242f4665472a",
   "metadata": {},
   "outputs": [],
   "source": [
    "import pandas as pd\n",
    "from config import RUN_GATK, QC, DOWNLOAD_GERMLINE_RESOURCE, DOWNLOAD_REF_GENOME, RESULTS_FOLDER, DATA_FOLDER, NORMAL_R1, NORMAL_R2, TUMOR_R1, TUMOR_R2, REFERENCE_CSV_FILE"
   ]
  },
  {
   "cell_type": "code",
   "execution_count": 2,
   "id": "28a02e4c-5cc9-47dd-9a42-63ddee2ea9da",
   "metadata": {},
   "outputs": [],
   "source": [
    "# Download reference human genome\n",
    "if DOWNLOAD_REF_GENOME:\n",
    "    !wget -O \"$DATA_FOLDER/hg38.fa.gz\" http://hgdownload.soe.ucsc.edu/goldenPath/hg38/bigZips/hg38.fa.gz\n",
    "    !gunzip \"$DATA_FOLDER/hg38.fa.gz\""
   ]
  },
  {
   "cell_type": "code",
   "execution_count": 3,
   "id": "7739c412-9998-49e9-ac6c-71923b2f6ea6",
   "metadata": {},
   "outputs": [],
   "source": [
    "if DOWNLOAD_GERMLINE_RESOURCE:\n",
    "    BASE_URL=\"https://storage.googleapis.com/gatk-best-practices/somatic-hg38\"\n",
    "    GNOMAD_VCF=\"af-only-gnomad.hg38.vcf.gz\"\n",
    "    GNOMAD_INDEX=\"af-only-gnomad.hg38.vcf.gz.tbi\"\n",
    "    !wget -O $DATA_FOLDER/$GNOMAD_VCF $BASE_URL/$GNOMAD_VCF\n",
    "    !wget -O $DATA_FOLDER/$GNOMAD_INDEX $BASE_URL/$GNOMAD_INDEX"
   ]
  },
  {
   "cell_type": "markdown",
   "id": "e9945c9a-474d-4351-9ad0-d859e1d40866",
   "metadata": {},
   "source": [
    "# Quality control"
   ]
  },
  {
   "cell_type": "code",
   "execution_count": 4,
   "id": "1f0df6da-750f-4556-aa48-b0c7c15478b9",
   "metadata": {},
   "outputs": [
    {
     "name": "stdout",
     "output_type": "stream",
     "text": [
      "zsh:1: no matches found: data/*.fastq.gz\n"
     ]
    }
   ],
   "source": [
    "# Perform quality checks using tools like FastQC and summarize quality metrics (e.g., sequence counts, \n",
    "# per-base quality, read duplication levels).\n",
    "\n",
    "# Decompress if needed\n",
    "!gunzip \"$DATA_FOLDER\"/*.fastq.gz\n",
    "\n",
    "if QC:\n",
    "    # Run FASTQC\n",
    "    # The summary of quality metrics is provided in the pdf report\n",
    "    !fastqc \"$DATA_FOLDER/$NORMAL_R1\" \"$DATA_FOLDER/$NORMAL_R2\" \"$DATA_FOLDER/$TUMOR_R1\" \"$DATA_FOLDER/$TUMOR_R2\" -o \"$RESULTS_FOLDER\""
   ]
  },
  {
   "cell_type": "markdown",
   "id": "6c66c869-256d-499e-9ac1-4b86386c6441",
   "metadata": {},
   "source": [
    "# Alignment and mutation calling"
   ]
  },
  {
   "cell_type": "code",
   "execution_count": 5,
   "id": "6575f220-2a30-40da-b642-0c5fdc941fa3",
   "metadata": {},
   "outputs": [],
   "source": [
    "# Align the samples to the human genome using tools like Bowtie2 or BWA.\n",
    "# https://gatk.broadinstitute.org/hc/en-us/articles/360035535912-Data-pre-processing-for-variant-discovery\n",
    "\n",
    "# Identify somatic mutations present in the cancer sample but absent in the normal tissue.\n",
    "# https://gatk.broadinstitute.org/hc/en-us/articles/360035894731-Somatic-short-variant-discovery-SNVs-Indels\n",
    "if RUN_GATK:\n",
    "    !chmod +x somatic_mutations.sh\n",
    "    !./somatic_mutations.sh \"$DATA_FOLDER/$NORMAL_R1\" \"$DATA_FOLDER/$NORMAL_R2\" \"$DATA_FOLDER/$TUMOR_R1\" \"$DATA_FOLDER/$TUMOR_R2\" \"$DATA_FOLDER/hg38.fa\" \"$RESULTS_FOLDER\" \"$DATA_FOLDER\""
   ]
  },
  {
   "cell_type": "code",
   "execution_count": 6,
   "id": "a56e0570-ac3f-4657-9a2c-ccdbc6afe730",
   "metadata": {},
   "outputs": [],
   "source": [
    "# Use the normal tissue to calculate the median background mutation level.\n",
    "# The background mutation levels accounts for sequencing errors or biases\n",
    "# that can mimic true mutations. Determine how many reads per million are\n",
    "# required to confidently call a given mutation."
   ]
  }
 ],
 "metadata": {
  "kernelspec": {
   "display_name": "Python 3 (ipykernel)",
   "language": "python",
   "name": "python3"
  },
  "language_info": {
   "codemirror_mode": {
    "name": "ipython",
    "version": 3
   },
   "file_extension": ".py",
   "mimetype": "text/x-python",
   "name": "python",
   "nbconvert_exporter": "python",
   "pygments_lexer": "ipython3",
   "version": "3.8.1"
  }
 },
 "nbformat": 4,
 "nbformat_minor": 5
}
