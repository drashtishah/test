{
 "cells": [
  {
   "cell_type": "code",
   "execution_count": null,
   "id": "cc2b1097-5c37-4963-a5c9-242f4665472a",
   "metadata": {},
   "outputs": [],
   "source": [
    "import pandas as pd\n",
    "from config import DOWNLOAD_REF_GENOME, RESULTS_FOLDER, DATA_FOLDER, NORMAL_R1, NORMAL_R2, TUMOR_R1, TUMOR_R2, REFERENCE_CSV_FILE"
   ]
  },
  {
   "cell_type": "code",
   "execution_count": null,
   "id": "28a02e4c-5cc9-47dd-9a42-63ddee2ea9da",
   "metadata": {},
   "outputs": [],
   "source": [
    "# Download reference human genome\n",
    "if DOWNLOAD_REF_GENOME:\n",
    "    !wget -O \"$DATA_FOLDER/hg38.fa.gz\" http://hgdownload.soe.ucsc.edu/goldenPath/hg38/bigZips/hg38.fa.gz\n",
    "    !gunzip \"$DATA_FOLDER/hg38.fa.gz\""
   ]
  },
  {
   "cell_type": "markdown",
   "id": "e9945c9a-474d-4351-9ad0-d859e1d40866",
   "metadata": {},
   "source": [
    "# Quality control"
   ]
  },
  {
   "cell_type": "code",
   "execution_count": 2,
   "id": "b4d2fd1d-800b-4d5a-8b83-40b45af32c18",
   "metadata": {},
   "outputs": [
    {
     "name": "stdout",
     "output_type": "stream",
     "text": [
      "zsh:1: no matches found: data/*.fastq.gz\n",
      "null\n",
      "null\n",
      "null\n",
      "null\n",
      "Started analysis of PA221MH-lib09-P19-Norm_S1_L001_R1_001.fastq\n",
      "Approx 5% complete for PA221MH-lib09-P19-Norm_S1_L001_R1_001.fastq\n",
      "Approx 10% complete for PA221MH-lib09-P19-Norm_S1_L001_R1_001.fastq\n",
      "Approx 15% complete for PA221MH-lib09-P19-Norm_S1_L001_R1_001.fastq\n",
      "Approx 20% complete for PA221MH-lib09-P19-Norm_S1_L001_R1_001.fastq\n",
      "Approx 25% complete for PA221MH-lib09-P19-Norm_S1_L001_R1_001.fastq\n",
      "Approx 30% complete for PA221MH-lib09-P19-Norm_S1_L001_R1_001.fastq\n",
      "Approx 35% complete for PA221MH-lib09-P19-Norm_S1_L001_R1_001.fastq\n",
      "Approx 40% complete for PA221MH-lib09-P19-Norm_S1_L001_R1_001.fastq\n",
      "Approx 45% complete for PA221MH-lib09-P19-Norm_S1_L001_R1_001.fastq\n",
      "Approx 50% complete for PA221MH-lib09-P19-Norm_S1_L001_R1_001.fastq\n",
      "Approx 55% complete for PA221MH-lib09-P19-Norm_S1_L001_R1_001.fastq\n",
      "Approx 60% complete for PA221MH-lib09-P19-Norm_S1_L001_R1_001.fastq\n",
      "Approx 65% complete for PA221MH-lib09-P19-Norm_S1_L001_R1_001.fastq\n",
      "Approx 70% complete for PA221MH-lib09-P19-Norm_S1_L001_R1_001.fastq\n",
      "Approx 75% complete for PA221MH-lib09-P19-Norm_S1_L001_R1_001.fastq\n",
      "Approx 80% complete for PA221MH-lib09-P19-Norm_S1_L001_R1_001.fastq\n",
      "Approx 85% complete for PA221MH-lib09-P19-Norm_S1_L001_R1_001.fastq\n",
      "Approx 90% complete for PA221MH-lib09-P19-Norm_S1_L001_R1_001.fastq\n",
      "Approx 95% complete for PA221MH-lib09-P19-Norm_S1_L001_R1_001.fastq\n",
      "Analysis complete for PA221MH-lib09-P19-Norm_S1_L001_R1_001.fastq\n",
      "Warning: the fonts \"Times\" and \"Times\" are not available for the Java logical font \"Serif\", which may have unexpected appearance or behavior. Re-enable the \"Times\" font to remove this warning.\n",
      "Started analysis of PA221MH-lib09-P19-Norm_S1_L001_R2_001.fastq\n",
      "Approx 5% complete for PA221MH-lib09-P19-Norm_S1_L001_R2_001.fastq\n",
      "Approx 10% complete for PA221MH-lib09-P19-Norm_S1_L001_R2_001.fastq\n",
      "Approx 15% complete for PA221MH-lib09-P19-Norm_S1_L001_R2_001.fastq\n",
      "Approx 20% complete for PA221MH-lib09-P19-Norm_S1_L001_R2_001.fastq\n",
      "Approx 25% complete for PA221MH-lib09-P19-Norm_S1_L001_R2_001.fastq\n",
      "Approx 30% complete for PA221MH-lib09-P19-Norm_S1_L001_R2_001.fastq\n",
      "Approx 35% complete for PA221MH-lib09-P19-Norm_S1_L001_R2_001.fastq\n",
      "Approx 40% complete for PA221MH-lib09-P19-Norm_S1_L001_R2_001.fastq\n",
      "Approx 45% complete for PA221MH-lib09-P19-Norm_S1_L001_R2_001.fastq\n",
      "Approx 50% complete for PA221MH-lib09-P19-Norm_S1_L001_R2_001.fastq\n",
      "Approx 55% complete for PA221MH-lib09-P19-Norm_S1_L001_R2_001.fastq\n",
      "Approx 60% complete for PA221MH-lib09-P19-Norm_S1_L001_R2_001.fastq\n",
      "Approx 65% complete for PA221MH-lib09-P19-Norm_S1_L001_R2_001.fastq\n",
      "Approx 70% complete for PA221MH-lib09-P19-Norm_S1_L001_R2_001.fastq\n",
      "Approx 75% complete for PA221MH-lib09-P19-Norm_S1_L001_R2_001.fastq\n",
      "Approx 80% complete for PA221MH-lib09-P19-Norm_S1_L001_R2_001.fastq\n",
      "Approx 85% complete for PA221MH-lib09-P19-Norm_S1_L001_R2_001.fastq\n",
      "Approx 90% complete for PA221MH-lib09-P19-Norm_S1_L001_R2_001.fastq\n",
      "Approx 95% complete for PA221MH-lib09-P19-Norm_S1_L001_R2_001.fastq\n",
      "Analysis complete for PA221MH-lib09-P19-Norm_S1_L001_R2_001.fastq\n",
      "Started analysis of PA220KH-lib09-P19-Tumor_S2_L001_R1_001.fastq\n",
      "Approx 5% complete for PA220KH-lib09-P19-Tumor_S2_L001_R1_001.fastq\n",
      "Approx 10% complete for PA220KH-lib09-P19-Tumor_S2_L001_R1_001.fastq\n",
      "Approx 15% complete for PA220KH-lib09-P19-Tumor_S2_L001_R1_001.fastq\n",
      "Approx 20% complete for PA220KH-lib09-P19-Tumor_S2_L001_R1_001.fastq\n",
      "Approx 25% complete for PA220KH-lib09-P19-Tumor_S2_L001_R1_001.fastq\n",
      "Approx 30% complete for PA220KH-lib09-P19-Tumor_S2_L001_R1_001.fastq\n",
      "Approx 35% complete for PA220KH-lib09-P19-Tumor_S2_L001_R1_001.fastq\n",
      "Approx 40% complete for PA220KH-lib09-P19-Tumor_S2_L001_R1_001.fastq\n",
      "Approx 45% complete for PA220KH-lib09-P19-Tumor_S2_L001_R1_001.fastq\n",
      "Approx 50% complete for PA220KH-lib09-P19-Tumor_S2_L001_R1_001.fastq\n",
      "Approx 55% complete for PA220KH-lib09-P19-Tumor_S2_L001_R1_001.fastq\n",
      "Approx 60% complete for PA220KH-lib09-P19-Tumor_S2_L001_R1_001.fastq\n",
      "Approx 65% complete for PA220KH-lib09-P19-Tumor_S2_L001_R1_001.fastq\n",
      "Approx 70% complete for PA220KH-lib09-P19-Tumor_S2_L001_R1_001.fastq\n",
      "Approx 75% complete for PA220KH-lib09-P19-Tumor_S2_L001_R1_001.fastq\n",
      "Approx 80% complete for PA220KH-lib09-P19-Tumor_S2_L001_R1_001.fastq\n",
      "Approx 85% complete for PA220KH-lib09-P19-Tumor_S2_L001_R1_001.fastq\n",
      "Approx 90% complete for PA220KH-lib09-P19-Tumor_S2_L001_R1_001.fastq\n",
      "Approx 95% complete for PA220KH-lib09-P19-Tumor_S2_L001_R1_001.fastq\n",
      "Analysis complete for PA220KH-lib09-P19-Tumor_S2_L001_R1_001.fastq\n",
      "Started analysis of PA220KH-lib09-P19-Tumor_S2_L001_R2_001.fastq\n",
      "Approx 5% complete for PA220KH-lib09-P19-Tumor_S2_L001_R2_001.fastq\n",
      "Approx 10% complete for PA220KH-lib09-P19-Tumor_S2_L001_R2_001.fastq\n",
      "Approx 15% complete for PA220KH-lib09-P19-Tumor_S2_L001_R2_001.fastq\n",
      "Approx 20% complete for PA220KH-lib09-P19-Tumor_S2_L001_R2_001.fastq\n",
      "Approx 25% complete for PA220KH-lib09-P19-Tumor_S2_L001_R2_001.fastq\n",
      "Approx 30% complete for PA220KH-lib09-P19-Tumor_S2_L001_R2_001.fastq\n",
      "Approx 35% complete for PA220KH-lib09-P19-Tumor_S2_L001_R2_001.fastq\n",
      "Approx 40% complete for PA220KH-lib09-P19-Tumor_S2_L001_R2_001.fastq\n",
      "Approx 45% complete for PA220KH-lib09-P19-Tumor_S2_L001_R2_001.fastq\n",
      "Approx 50% complete for PA220KH-lib09-P19-Tumor_S2_L001_R2_001.fastq\n",
      "Approx 55% complete for PA220KH-lib09-P19-Tumor_S2_L001_R2_001.fastq\n",
      "Approx 60% complete for PA220KH-lib09-P19-Tumor_S2_L001_R2_001.fastq\n",
      "Approx 65% complete for PA220KH-lib09-P19-Tumor_S2_L001_R2_001.fastq\n",
      "Approx 70% complete for PA220KH-lib09-P19-Tumor_S2_L001_R2_001.fastq\n",
      "Approx 75% complete for PA220KH-lib09-P19-Tumor_S2_L001_R2_001.fastq\n",
      "Approx 80% complete for PA220KH-lib09-P19-Tumor_S2_L001_R2_001.fastq\n",
      "Approx 85% complete for PA220KH-lib09-P19-Tumor_S2_L001_R2_001.fastq\n",
      "Approx 90% complete for PA220KH-lib09-P19-Tumor_S2_L001_R2_001.fastq\n",
      "Approx 95% complete for PA220KH-lib09-P19-Tumor_S2_L001_R2_001.fastq\n",
      "Analysis complete for PA220KH-lib09-P19-Tumor_S2_L001_R2_001.fastq\n"
     ]
    }
   ],
   "source": [
    "# Perform quality checks using tools like FastQC and summarize quality metrics (e.g., sequence counts, \n",
    "# per-base quality, read duplication levels).\n",
    "\n",
    "# Decompress if needed\n",
    "!gunzip \"$DATA_FOLDER\"/*.fastq.gz\n",
    "\n",
    "# Run FASTQC\n",
    "# The summary of quality metrics is provided in the pdf report\n",
    "!fastqc \"$DATA_FOLDER/$NORMAL_R1\" \"$DATA_FOLDER/$NORMAL_R2\" \"$DATA_FOLDER/$TUMOR_R1\" \"$DATA_FOLDER/$TUMOR_R2\" -o \"$RESULTS_FOLDER\""
   ]
  },
  {
   "cell_type": "markdown",
   "id": "6c66c869-256d-499e-9ac1-4b86386c6441",
   "metadata": {},
   "source": [
    "# Alignment and mutation calling"
   ]
  },
  {
   "cell_type": "code",
   "execution_count": 10,
   "id": "6575f220-2a30-40da-b642-0c5fdc941fa3",
   "metadata": {},
   "outputs": [
    {
     "name": "stdout",
     "output_type": "stream",
     "text": [
      "--2025-01-16 17:39:04--  http://hgdownload.soe.ucsc.edu/goldenPath/hg38/bigZips/hg38.fa.gz\n",
      "Resolving hgdownload.soe.ucsc.edu (hgdownload.soe.ucsc.edu)... 128.114.119.163\n",
      "Connecting to hgdownload.soe.ucsc.edu (hgdownload.soe.ucsc.edu)|128.114.119.163|:80... connected.\n",
      "HTTP request sent, awaiting response... 200 OK\n",
      "Length: 983659424 (938M) [application/x-gzip]\n",
      "Saving to: 'data/hg38.fa.gz'\n",
      "\n",
      "data/hg38.fa.gz       2%[                    ]  26.23M  74.4KB/s    eta 51m 53s^C\n",
      "gunzip: data/hg38.fa.gz: unexpected end of file\n",
      "gunzip: data/hg38.fa.gz: uncompress failed\n"
     ]
    }
   ],
   "source": [
    "# Align the samples to the human genome using tools like Bowtie2 or BWA.\n",
    "# https://gatk.broadinstitute.org/hc/en-us/articles/360035535912-Data-pre-processing-for-variant-discovery"
   ]
  },
  {
   "cell_type": "code",
   "execution_count": 8,
   "id": "4f7a3bb1-b2c8-464d-9885-3fdafa5f2b6f",
   "metadata": {},
   "outputs": [
    {
     "name": "stdout",
     "output_type": "stream",
     "text": [
      "gunzip: error writing to output: No space left on device\n",
      "gunzip: data/hg38.fa.gz: uncompress failed\n"
     ]
    }
   ],
   "source": [
    "# Identify somatic mutations present in the cancer sample but absent in the normal tissue.\n",
    "# https://gatk.broadinstitute.org/hc/en-us/articles/360035894731-Somatic-short-variant-discovery-SNVs-Indels"
   ]
  },
  {
   "cell_type": "code",
   "execution_count": 5,
   "id": "a56e0570-ac3f-4657-9a2c-ccdbc6afe730",
   "metadata": {},
   "outputs": [],
   "source": [
    "# Use the normal tissue to calculate the median background mutation level.\n",
    "# The background mutation level accounts for sequencing errors or biases\n",
    "# that can mimic true mutations. Determine how many reads per million are\n",
    "# required to confidently call a given mutation."
   ]
  }
 ],
 "metadata": {
  "kernelspec": {
   "display_name": "Python 3 (ipykernel)",
   "language": "python",
   "name": "python3"
  },
  "language_info": {
   "codemirror_mode": {
    "name": "ipython",
    "version": 3
   },
   "file_extension": ".py",
   "mimetype": "text/x-python",
   "name": "python",
   "nbconvert_exporter": "python",
   "pygments_lexer": "ipython3",
   "version": "3.9.12"
  }
 },
 "nbformat": 4,
 "nbformat_minor": 5
}
